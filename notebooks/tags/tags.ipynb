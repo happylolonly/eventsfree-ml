{
 "cells": [
  {
   "cell_type": "code",
   "execution_count": 1,
   "metadata": {},
   "outputs": [
    {
     "name": "stdout",
     "output_type": "stream",
     "text": [
      "--2018-12-23 14:03:13--  https://raw.githubusercontent.com/happylolonly/eventsfree-ml/master/notebooks/tags/data/data.csv\n",
      "Resolving raw.githubusercontent.com (raw.githubusercontent.com)... 151.101.112.133\n",
      "Connecting to raw.githubusercontent.com (raw.githubusercontent.com)|151.101.112.133|:443... connected.\n",
      "HTTP request sent, awaiting response... 200 OK\n",
      "Length: 910947 (890K) [text/plain]\n",
      "Saving to: ‘data.csv’\n",
      "\n",
      "data.csv            100%[===================>] 889.60K  2.93MB/s    in 0.3s    \n",
      "\n",
      "2018-12-23 14:03:14 (2.93 MB/s) - ‘data.csv’ saved [910947/910947]\n",
      "\n"
     ]
    }
   ],
   "source": [
    "!wget https://raw.githubusercontent.com/happylolonly/eventsfree-ml/master/notebooks/tags/data/data.csv"
   ]
  },
  {
   "cell_type": "code",
   "execution_count": null,
   "metadata": {},
   "outputs": [],
   "source": [
    "# !wget https://s3-us-west-1.amazonaws.com/fasttext-vectors/word-vectors-v2/cc.ru.300.bin.gz"
   ]
  },
  {
   "cell_type": "code",
   "execution_count": null,
   "metadata": {},
   "outputs": [],
   "source": [
    "# !wget https://s3-us-west-1.amazonaws.com/fasttext-vectors/word-vectors-v2/cc.ru.300.vec.gz"
   ]
  },
  {
   "cell_type": "code",
   "execution_count": null,
   "metadata": {},
   "outputs": [],
   "source": [
    "# !gunzip cc.ru.300.bin.gz\n",
    "# !gunzip cc.ru.300.vec.gz"
   ]
  },
  {
   "cell_type": "code",
   "execution_count": 3,
   "metadata": {
    "scrolled": true
   },
   "outputs": [],
   "source": [
    "import pandas as pd"
   ]
  },
  {
   "cell_type": "code",
   "execution_count": 19,
   "metadata": {},
   "outputs": [
    {
     "data": {
      "text/html": [
       "<div>\n",
       "<style scoped>\n",
       "    .dataframe tbody tr th:only-of-type {\n",
       "        vertical-align: middle;\n",
       "    }\n",
       "\n",
       "    .dataframe tbody tr th {\n",
       "        vertical-align: top;\n",
       "    }\n",
       "\n",
       "    .dataframe thead th {\n",
       "        text-align: right;\n",
       "    }\n",
       "</style>\n",
       "<table border=\"1\" class=\"dataframe\">\n",
       "  <thead>\n",
       "    <tr style=\"text-align: right;\">\n",
       "      <th></th>\n",
       "      <th>title</th>\n",
       "      <th>text</th>\n",
       "      <th>tags</th>\n",
       "    </tr>\n",
       "  </thead>\n",
       "  <tbody>\n",
       "    <tr>\n",
       "      <th>0</th>\n",
       "      <td>Письма из Венеции</td>\n",
       "      <td>&lt;p&gt;&amp;#x41D;&amp;#x438;&amp;#x43A;&amp;#x442;&amp;#x43E; &amp;#x43D;...</td>\n",
       "      <td>{выставка}</td>\n",
       "    </tr>\n",
       "    <tr>\n",
       "      <th>1</th>\n",
       "      <td>🎄🎄🎄А Вы уже ощущаете праздник и новогоднее на...</td>\n",
       "      <td>🎄🎄🎄А Вы уже ощущаете праздник и новогоднее нас...</td>\n",
       "      <td>{фитнес, праздник}</td>\n",
       "    </tr>\n",
       "    <tr>\n",
       "      <th>2</th>\n",
       "      <td>🔥🔥🔥PoisonBox дарит возможности!!! 🔥🔥🔥 \\n \\nВ ...</td>\n",
       "      <td>🔥🔥🔥PoisonBox дарит возможности!!! 🔥🔥🔥 \\n \\nВ э...</td>\n",
       "      <td>{тренировка, фитнес}</td>\n",
       "    </tr>\n",
       "    <tr>\n",
       "      <th>3</th>\n",
       "      <td>БЕСПЛАТНАЯ открытая тренировка по CROSSFIT! \\...</td>\n",
       "      <td>БЕСПЛАТНАЯ открытая тренировка по CROSSFIT! \\n...</td>\n",
       "      <td>{тренировка, фитнес}</td>\n",
       "    </tr>\n",
       "    <tr>\n",
       "      <th>6</th>\n",
       "      <td>Внимание!!!📌\\n\\nОткрытое занятие по TRX и SUP...</td>\n",
       "      <td>Внимание!!!📌\\n\\nОткрытое занятие по TRX и SUPE...</td>\n",
       "      <td>{trx, тренировка, фитнес}</td>\n",
       "    </tr>\n",
       "  </tbody>\n",
       "</table>\n",
       "</div>"
      ],
      "text/plain": [
       "                                               title  \\\n",
       "0                                 Письма из Венеции    \n",
       "1   🎄🎄🎄А Вы уже ощущаете праздник и новогоднее на...   \n",
       "2   🔥🔥🔥PoisonBox дарит возможности!!! 🔥🔥🔥 \\n \\nВ ...   \n",
       "3   БЕСПЛАТНАЯ открытая тренировка по CROSSFIT! \\...   \n",
       "6   Внимание!!!📌\\n\\nОткрытое занятие по TRX и SUP...   \n",
       "\n",
       "                                                text  \\\n",
       "0  <p>&#x41D;&#x438;&#x43A;&#x442;&#x43E; &#x43D;...   \n",
       "1  🎄🎄🎄А Вы уже ощущаете праздник и новогоднее нас...   \n",
       "2  🔥🔥🔥PoisonBox дарит возможности!!! 🔥🔥🔥 \\n \\nВ э...   \n",
       "3  БЕСПЛАТНАЯ открытая тренировка по CROSSFIT! \\n...   \n",
       "6  Внимание!!!📌\\n\\nОткрытое занятие по TRX и SUPE...   \n",
       "\n",
       "                        tags  \n",
       "0                 {выставка}  \n",
       "1         {фитнес, праздник}  \n",
       "2       {тренировка, фитнес}  \n",
       "3       {тренировка, фитнес}  \n",
       "6  {trx, тренировка, фитнес}  "
      ]
     },
     "execution_count": 19,
     "metadata": {},
     "output_type": "execute_result"
    }
   ],
   "source": [
    "df = pd.read_csv('./data.csv')\n",
    "\n",
    "df['tags'] = df['tags'].map(eval) \n",
    "df['tags'] = df['tags'].map(lambda x: set(x))\n",
    "tags_white_list = {'выставка', 'праздник', 'фитнес', 'тренировка', 'trx', 'обучение', 'лекция', 'english', 'музыка', 'джаз', 'танцы', 'митап', 'дизайн', 'it', 'семинар', 'концерт', 'конкурс', 'вечеринка', 'ярмарка', 'турнир', 'тенис', 'театр', 'фотография', 'фильм', 'кино', 'дети', 'гитара', 'стартап', 'инвестиции', 'маркет', 'программирование', 'нетворкинг'}\n",
    "df['tags'] = df['tags'].map(lambda x: set(x).intersection(tags_white_list))\n",
    "# .intersection(tags_white_list)\n",
    "df = df[df.tags.map(len) > 0]\n",
    "\n",
    "df.head()\n",
    "\n"
   ]
  },
  {
   "cell_type": "code",
   "execution_count": 20,
   "metadata": {},
   "outputs": [
    {
     "name": "stdout",
     "output_type": "stream",
     "text": [
      "[nltk_data] Downloading package wordnet to\n",
      "[nltk_data]     /Users/happylol/nltk_data...\n",
      "[nltk_data]   Package wordnet is already up-to-date!\n"
     ]
    }
   ],
   "source": [
    "import gensim\n",
    "from gensim.utils import simple_preprocess\n",
    "from gensim.parsing.preprocessing import STOPWORDS\n",
    "from nltk.stem import WordNetLemmatizer, SnowballStemmer\n",
    "from nltk.stem.porter import *\n",
    "import numpy as np\n",
    "np.random.seed(2018)\n",
    "import nltk\n",
    "nltk.download('wordnet')\n",
    "stemmer = SnowballStemmer('russian')\n",
    "\n",
    "import json\n",
    "from html.parser import HTMLParser\n",
    "\n",
    "class MLStripper(HTMLParser):\n",
    "    def __init__(self):\n",
    "        self.reset()\n",
    "        self.strict = False\n",
    "        self.convert_charrefs= True\n",
    "        self.fed = []\n",
    "    def handle_data(self, d):\n",
    "        self.fed.append(d)\n",
    "    def get_data(self):\n",
    "        return ''.join(self.fed)\n",
    "\n",
    "def strip_tags(html):\n",
    "    s = MLStripper()\n",
    "    s.feed(html)\n",
    "    return s.get_data()\n",
    "\n",
    "def standardize_text(df, text_field):\n",
    "    df[text_field] = df[text_field].apply(strip_tags)\n",
    "    df[text_field] = df[text_field].str.replace(r\"http\\S+\", \"\")\n",
    "    df[text_field] = df[text_field].str.replace(r\"http\", \"\")\n",
    "    df[text_field] = df[text_field].str.replace(r\"[^а-яА-Я0-9a-zA-Z]\", \" \")\n",
    "    df[text_field] = df[text_field].str.replace(r\"\\s+\", \" \")\n",
    "    df[text_field] = df[text_field].str.lower()\n",
    "    return df"
   ]
  },
  {
   "cell_type": "code",
   "execution_count": 21,
   "metadata": {},
   "outputs": [
    {
     "data": {
      "text/html": [
       "<div>\n",
       "<style scoped>\n",
       "    .dataframe tbody tr th:only-of-type {\n",
       "        vertical-align: middle;\n",
       "    }\n",
       "\n",
       "    .dataframe tbody tr th {\n",
       "        vertical-align: top;\n",
       "    }\n",
       "\n",
       "    .dataframe thead th {\n",
       "        text-align: right;\n",
       "    }\n",
       "</style>\n",
       "<table border=\"1\" class=\"dataframe\">\n",
       "  <thead>\n",
       "    <tr style=\"text-align: right;\">\n",
       "      <th></th>\n",
       "      <th>title</th>\n",
       "      <th>text</th>\n",
       "      <th>tags</th>\n",
       "    </tr>\n",
       "  </thead>\n",
       "  <tbody>\n",
       "    <tr>\n",
       "      <th>0</th>\n",
       "      <td>письма из венеции</td>\n",
       "      <td>никто не может остаться равнодушным к венеции ...</td>\n",
       "      <td>{выставка}</td>\n",
       "    </tr>\n",
       "    <tr>\n",
       "      <th>1</th>\n",
       "      <td>а вы уже ощущаете праздник и новогоднее настр...</td>\n",
       "      <td>а вы уже ощущаете праздник и новогоднее настр...</td>\n",
       "      <td>{фитнес, праздник}</td>\n",
       "    </tr>\n",
       "    <tr>\n",
       "      <th>2</th>\n",
       "      <td>poisonbox дарит возможности n nв эту субботу ...</td>\n",
       "      <td>poisonbox дарит возможности n nв эту субботу ...</td>\n",
       "      <td>{тренировка, фитнес}</td>\n",
       "    </tr>\n",
       "    <tr>\n",
       "      <th>3</th>\n",
       "      <td>бесплатная открытая тренировка по crossfit n ...</td>\n",
       "      <td>бесплатная открытая тренировка по crossfit n n...</td>\n",
       "      <td>{тренировка, фитнес}</td>\n",
       "    </tr>\n",
       "    <tr>\n",
       "      <th>6</th>\n",
       "      <td>внимание n nоткрытое занятие по trx и super 8...</td>\n",
       "      <td>внимание n nоткрытое занятие по trx и super 8 ...</td>\n",
       "      <td>{trx, тренировка, фитнес}</td>\n",
       "    </tr>\n",
       "  </tbody>\n",
       "</table>\n",
       "</div>"
      ],
      "text/plain": [
       "                                               title  \\\n",
       "0                                 письма из венеции    \n",
       "1   а вы уже ощущаете праздник и новогоднее настр...   \n",
       "2   poisonbox дарит возможности n nв эту субботу ...   \n",
       "3   бесплатная открытая тренировка по crossfit n ...   \n",
       "6   внимание n nоткрытое занятие по trx и super 8...   \n",
       "\n",
       "                                                text  \\\n",
       "0  никто не может остаться равнодушным к венеции ...   \n",
       "1   а вы уже ощущаете праздник и новогоднее настр...   \n",
       "2   poisonbox дарит возможности n nв эту субботу ...   \n",
       "3  бесплатная открытая тренировка по crossfit n n...   \n",
       "6  внимание n nоткрытое занятие по trx и super 8 ...   \n",
       "\n",
       "                        tags  \n",
       "0                 {выставка}  \n",
       "1         {фитнес, праздник}  \n",
       "2       {тренировка, фитнес}  \n",
       "3       {тренировка, фитнес}  \n",
       "6  {trx, тренировка, фитнес}  "
      ]
     },
     "execution_count": 21,
     "metadata": {},
     "output_type": "execute_result"
    }
   ],
   "source": [
    "df = standardize_text(df, 'text')\n",
    "df = standardize_text(df, 'title')\n",
    "\n",
    "df.head()"
   ]
  },
  {
   "cell_type": "code",
   "execution_count": 22,
   "metadata": {},
   "outputs": [],
   "source": [
    "from collections import Counter\n",
    "\n",
    "counter = Counter()\n",
    "for tags in df['tags'].values:\n",
    "    for t in tags:\n",
    "        counter[t] += 1"
   ]
  },
  {
   "cell_type": "code",
   "execution_count": 23,
   "metadata": {},
   "outputs": [
    {
     "data": {
      "text/plain": [
       "Counter({'выставка': 7,\n",
       "         'фитнес': 17,\n",
       "         'праздник': 14,\n",
       "         'тренировка': 16,\n",
       "         'trx': 3,\n",
       "         'обучение': 11,\n",
       "         'лекция': 8,\n",
       "         'english': 5,\n",
       "         'музыка': 36,\n",
       "         'джаз': 5,\n",
       "         'танцы': 4,\n",
       "         'митап': 25,\n",
       "         'дизайн': 3,\n",
       "         'it': 7,\n",
       "         'семинар': 3,\n",
       "         'концерт': 3,\n",
       "         'конкурс': 3,\n",
       "         'вечеринка': 20,\n",
       "         'ярмарка': 16,\n",
       "         'турнир': 4,\n",
       "         'тенис': 4,\n",
       "         'театр': 6,\n",
       "         'фотография': 3,\n",
       "         'фильм': 4,\n",
       "         'кино': 4,\n",
       "         'дети': 15,\n",
       "         'гитара': 3,\n",
       "         'стартап': 5,\n",
       "         'инвестиции': 4,\n",
       "         'маркет': 4,\n",
       "         'программирование': 3,\n",
       "         'нетворкинг': 4})"
      ]
     },
     "execution_count": 23,
     "metadata": {},
     "output_type": "execute_result"
    }
   ],
   "source": [
    "counter"
   ]
  },
  {
   "cell_type": "code",
   "execution_count": 24,
   "metadata": {},
   "outputs": [
    {
     "name": "stdout",
     "output_type": "stream",
     "text": [
      "['выставка', 'фитнес', 'праздник', 'тренировка', 'trx', 'обучение', 'лекция', 'english', 'музыка', 'джаз', 'танцы', 'митап', 'дизайн', 'it', 'семинар', 'концерт', 'конкурс', 'вечеринка', 'ярмарка', 'турнир', 'тенис', 'театр', 'фотография', 'фильм', 'кино', 'дети', 'гитара', 'стартап', 'инвестиции', 'маркет', 'программирование', 'нетворкинг']\n"
     ]
    }
   ],
   "source": [
    "arr = []\n",
    "for i in counter:\n",
    "    if counter[i] > 2:\n",
    "        arr.append(i);\n",
    "        \n",
    "print(arr);"
   ]
  },
  {
   "cell_type": "code",
   "execution_count": 25,
   "metadata": {},
   "outputs": [
    {
     "data": {
      "text/html": [
       "<div>\n",
       "<style scoped>\n",
       "    .dataframe tbody tr th:only-of-type {\n",
       "        vertical-align: middle;\n",
       "    }\n",
       "\n",
       "    .dataframe tbody tr th {\n",
       "        vertical-align: top;\n",
       "    }\n",
       "\n",
       "    .dataframe thead th {\n",
       "        text-align: right;\n",
       "    }\n",
       "</style>\n",
       "<table border=\"1\" class=\"dataframe\">\n",
       "  <thead>\n",
       "    <tr style=\"text-align: right;\">\n",
       "      <th></th>\n",
       "      <th>tag</th>\n",
       "      <th>tags</th>\n",
       "      <th>text</th>\n",
       "      <th>title</th>\n",
       "    </tr>\n",
       "  </thead>\n",
       "  <tbody>\n",
       "    <tr>\n",
       "      <th>0</th>\n",
       "      <td>выставка</td>\n",
       "      <td>{выставка}</td>\n",
       "      <td>никто не может остаться равнодушным к венеции ...</td>\n",
       "      <td>письма из венеции</td>\n",
       "    </tr>\n",
       "    <tr>\n",
       "      <th>1</th>\n",
       "      <td>фитнес</td>\n",
       "      <td>{фитнес, праздник}</td>\n",
       "      <td>а вы уже ощущаете праздник и новогоднее настр...</td>\n",
       "      <td>а вы уже ощущаете праздник и новогоднее настр...</td>\n",
       "    </tr>\n",
       "    <tr>\n",
       "      <th>2</th>\n",
       "      <td>праздник</td>\n",
       "      <td>{фитнес, праздник}</td>\n",
       "      <td>а вы уже ощущаете праздник и новогоднее настр...</td>\n",
       "      <td>а вы уже ощущаете праздник и новогоднее настр...</td>\n",
       "    </tr>\n",
       "    <tr>\n",
       "      <th>3</th>\n",
       "      <td>тренировка</td>\n",
       "      <td>{тренировка, фитнес}</td>\n",
       "      <td>poisonbox дарит возможности n nв эту субботу ...</td>\n",
       "      <td>poisonbox дарит возможности n nв эту субботу ...</td>\n",
       "    </tr>\n",
       "    <tr>\n",
       "      <th>4</th>\n",
       "      <td>фитнес</td>\n",
       "      <td>{тренировка, фитнес}</td>\n",
       "      <td>poisonbox дарит возможности n nв эту субботу ...</td>\n",
       "      <td>poisonbox дарит возможности n nв эту субботу ...</td>\n",
       "    </tr>\n",
       "  </tbody>\n",
       "</table>\n",
       "</div>"
      ],
      "text/plain": [
       "          tag                  tags  \\\n",
       "0    выставка            {выставка}   \n",
       "1      фитнес    {фитнес, праздник}   \n",
       "2    праздник    {фитнес, праздник}   \n",
       "3  тренировка  {тренировка, фитнес}   \n",
       "4      фитнес  {тренировка, фитнес}   \n",
       "\n",
       "                                                text  \\\n",
       "0  никто не может остаться равнодушным к венеции ...   \n",
       "1   а вы уже ощущаете праздник и новогоднее настр...   \n",
       "2   а вы уже ощущаете праздник и новогоднее настр...   \n",
       "3   poisonbox дарит возможности n nв эту субботу ...   \n",
       "4   poisonbox дарит возможности n nв эту субботу ...   \n",
       "\n",
       "                                               title  \n",
       "0                                 письма из венеции   \n",
       "1   а вы уже ощущаете праздник и новогоднее настр...  \n",
       "2   а вы уже ощущаете праздник и новогоднее настр...  \n",
       "3   poisonbox дарит возможности n nв эту субботу ...  \n",
       "4   poisonbox дарит возможности n nв эту субботу ...  "
      ]
     },
     "execution_count": 25,
     "metadata": {},
     "output_type": "execute_result"
    }
   ],
   "source": [
    "rows = []\n",
    "\n",
    "for row in df.to_dict(orient='record'):\n",
    "    for tag in row['tags']:\n",
    "        row_copy = row.copy()\n",
    "        row_copy['tag'] = tag\n",
    "        \n",
    "        rows.append(row_copy)\n",
    "        \n",
    "df = pd.DataFrame(rows)\n",
    "df.head()"
   ]
  },
  {
   "cell_type": "code",
   "execution_count": 26,
   "metadata": {},
   "outputs": [
    {
     "name": "stdout",
     "output_type": "stream",
     "text": [
      "(array(['english', 'it', 'trx', 'вечеринка', 'выставка', 'гитара', 'дети',\n",
      "       'джаз', 'дизайн', 'инвестиции', 'кино', 'конкурс', 'концерт',\n",
      "       'лекция', 'маркет', 'митап', 'музыка', 'нетворкинг', 'обучение',\n",
      "       'праздник', 'программирование', 'семинар', 'стартап', 'танцы',\n",
      "       'театр', 'тенис', 'тренировка', 'турнир', 'фильм', 'фитнес',\n",
      "       'фотография', 'ярмарка'], dtype=object), array([ 4,  5,  2, 14,  5,  2, 10,  3,  2,  3,  3,  2,  2,  6,  3, 17, 25,\n",
      "        3,  8, 10,  2,  2,  3,  3,  4,  3, 11,  3,  3, 12,  2, 11]))\n",
      "(array(['english', 'it', 'trx', 'вечеринка', 'выставка', 'гитара', 'дети',\n",
      "       'джаз', 'дизайн', 'инвестиции', 'кино', 'конкурс', 'концерт',\n",
      "       'лекция', 'маркет', 'митап', 'музыка', 'нетворкинг', 'обучение',\n",
      "       'праздник', 'программирование', 'семинар', 'стартап', 'танцы',\n",
      "       'театр', 'тенис', 'тренировка', 'турнир', 'фильм', 'фитнес',\n",
      "       'фотография', 'ярмарка'], dtype=object), array([ 1,  2,  1,  6,  2,  1,  5,  2,  1,  1,  1,  1,  1,  2,  1,  8, 11,\n",
      "        1,  3,  4,  1,  1,  2,  1,  2,  1,  5,  1,  1,  5,  1,  5]))\n"
     ]
    }
   ],
   "source": [
    "from sklearn.model_selection import train_test_split\n",
    "\n",
    "train, test = train_test_split(df, test_size=0.3, stratify=df['tag'].values)\n",
    "\n",
    "print(np.unique(train['tag'].values, return_counts=True))\n",
    "print(np.unique(test['tag'].values, return_counts=True))"
   ]
  },
  {
   "cell_type": "code",
   "execution_count": 27,
   "metadata": {},
   "outputs": [],
   "source": [
    "# %%bash\n",
    "\n",
    "# pip install -U -q git+https://github.com/facebookresearch/fastText.git\n",
    "\n",
    "import fastText\n",
    "\n",
    "FIELD = 'text'"
   ]
  },
  {
   "cell_type": "code",
   "execution_count": 28,
   "metadata": {},
   "outputs": [],
   "source": [
    "def save(df, path):\n",
    "    with open(path, 'w+') as f:\n",
    "        for _, row in df.iterrows():\n",
    "            f.write('__label__{} {}\\n'.format(row['tag'], row[FIELD]))"
   ]
  },
  {
   "cell_type": "code",
   "execution_count": 29,
   "metadata": {},
   "outputs": [],
   "source": [
    "# save(df, '/tmp/train.data')\n",
    "save(train, '/tmp/train.data')"
   ]
  },
  {
   "cell_type": "code",
   "execution_count": 34,
   "metadata": {},
   "outputs": [],
   "source": [
    "model = fastText.train_supervised('/tmp/train.data',\n",
    "                                  pretrainedVectors='/tmp/ml/fasttext/cc.ru.300.vec',\n",
    "                                  dim=300,\n",
    "                                  thread=15,\n",
    "                                  epoch=50,\n",
    "                                  verbose=8)"
   ]
  },
  {
   "cell_type": "code",
   "execution_count": 37,
   "metadata": {},
   "outputs": [],
   "source": [
    "labels, probs = model.predict(test[FIELD].tolist())\n",
    "labels = [ll[0].replace('__label__', '') for ll in labels]"
   ]
  },
  {
   "cell_type": "code",
   "execution_count": 43,
   "metadata": {},
   "outputs": [],
   "source": [
    "from sklearn.metrics import classification_report\n",
    "print(classification_report(test['tag'].values, labels))"
   ]
  },
  {
   "cell_type": "code",
   "execution_count": 15,
   "metadata": {},
   "outputs": [],
   "source": [
    "model.quantize(qnorm=True, cutoff=100000)\n",
    "model.save_model('ft_quantized.model')"
   ]
  }
 ],
 "metadata": {
  "kernelspec": {
   "display_name": "Python 3",
   "language": "python",
   "name": "python3"
  },
  "language_info": {
   "codemirror_mode": {
    "name": "ipython",
    "version": 3
   },
   "file_extension": ".py",
   "mimetype": "text/x-python",
   "name": "python",
   "nbconvert_exporter": "python",
   "pygments_lexer": "ipython3",
   "version": "3.6.7"
  }
 },
 "nbformat": 4,
 "nbformat_minor": 2
}
