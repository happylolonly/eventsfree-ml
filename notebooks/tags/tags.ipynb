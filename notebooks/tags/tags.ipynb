{
 "cells": [
  {
   "cell_type": "code",
   "execution_count": null,
   "metadata": {},
   "outputs": [],
   "source": [
    "!wget https://raw.githubusercontent.com/happylolonly/eventsfree-ml/master/notebooks/tags/data/data.csv"
   ]
  },
  {
   "cell_type": "code",
   "execution_count": null,
   "metadata": {},
   "outputs": [],
   "source": [
    "# !wget https://s3-us-west-1.amazonaws.com/fasttext-vectors/word-vectors-v2/cc.ru.300.bin.gz"
   ]
  },
  {
   "cell_type": "code",
   "execution_count": null,
   "metadata": {},
   "outputs": [],
   "source": [
    "# !wget https://s3-us-west-1.amazonaws.com/fasttext-vectors/word-vectors-v2/cc.ru.300.vec.gz"
   ]
  },
  {
   "cell_type": "code",
   "execution_count": null,
   "metadata": {},
   "outputs": [],
   "source": [
    "# !gunzip cc.ru.300.bin.gz\n",
    "# !gunzip cc.ru.300.vec.gz"
   ]
  },
  {
   "cell_type": "code",
   "execution_count": 2,
   "metadata": {
    "scrolled": true
   },
   "outputs": [],
   "source": [
    "import pandas as pd"
   ]
  },
  {
   "cell_type": "code",
   "execution_count": 3,
   "metadata": {},
   "outputs": [
    {
     "data": {
      "text/html": [
       "<div>\n",
       "<style scoped>\n",
       "    .dataframe tbody tr th:only-of-type {\n",
       "        vertical-align: middle;\n",
       "    }\n",
       "\n",
       "    .dataframe tbody tr th {\n",
       "        vertical-align: top;\n",
       "    }\n",
       "\n",
       "    .dataframe thead th {\n",
       "        text-align: right;\n",
       "    }\n",
       "</style>\n",
       "<table border=\"1\" class=\"dataframe\">\n",
       "  <thead>\n",
       "    <tr style=\"text-align: right;\">\n",
       "      <th></th>\n",
       "      <th>tags</th>\n",
       "      <th>text</th>\n",
       "      <th>title</th>\n",
       "    </tr>\n",
       "  </thead>\n",
       "  <tbody>\n",
       "    <tr>\n",
       "      <th>0</th>\n",
       "      <td>{выставка}</td>\n",
       "      <td>&lt;p&gt;&amp;#x41D;&amp;#x438;&amp;#x43A;&amp;#x442;&amp;#x43E; &amp;#x43D;...</td>\n",
       "      <td>Письма из Венеции</td>\n",
       "    </tr>\n",
       "    <tr>\n",
       "      <th>1</th>\n",
       "      <td>{фитнес, праздник}</td>\n",
       "      <td>🎄🎄🎄А Вы уже ощущаете праздник и новогоднее нас...</td>\n",
       "      <td>🎄🎄🎄А Вы уже ощущаете праздник и новогоднее на...</td>\n",
       "    </tr>\n",
       "    <tr>\n",
       "      <th>2</th>\n",
       "      <td>{тренировка, фитнес, кроссфит}</td>\n",
       "      <td>🔥🔥🔥PoisonBox дарит возможности!!! 🔥🔥🔥    В эту...</td>\n",
       "      <td>🔥🔥🔥PoisonBox дарит возможности!!! 🔥🔥🔥    В эт...</td>\n",
       "    </tr>\n",
       "    <tr>\n",
       "      <th>3</th>\n",
       "      <td>{тренировка, фитнес, кроссфит }</td>\n",
       "      <td>БЕСПЛАТНАЯ открытая тренировка по CROSSFIT!   ...</td>\n",
       "      <td>БЕСПЛАТНАЯ открытая тренировка по CROSSFIT!  ...</td>\n",
       "    </tr>\n",
       "    <tr>\n",
       "      <th>4</th>\n",
       "      <td>{вебинар, работа, германия}</td>\n",
       "      <td>🇩🇪 Хотите работать в Германии, но не владеете ...</td>\n",
       "      <td>🇩🇪 Хотите работать в Германии, но не владеете...</td>\n",
       "    </tr>\n",
       "  </tbody>\n",
       "</table>\n",
       "</div>"
      ],
      "text/plain": [
       "                              tags  \\\n",
       "0                       {выставка}   \n",
       "1               {фитнес, праздник}   \n",
       "2   {тренировка, фитнес, кроссфит}   \n",
       "3  {тренировка, фитнес, кроссфит }   \n",
       "4      {вебинар, работа, германия}   \n",
       "\n",
       "                                                text  \\\n",
       "0  <p>&#x41D;&#x438;&#x43A;&#x442;&#x43E; &#x43D;...   \n",
       "1  🎄🎄🎄А Вы уже ощущаете праздник и новогоднее нас...   \n",
       "2  🔥🔥🔥PoisonBox дарит возможности!!! 🔥🔥🔥    В эту...   \n",
       "3  БЕСПЛАТНАЯ открытая тренировка по CROSSFIT!   ...   \n",
       "4  🇩🇪 Хотите работать в Германии, но не владеете ...   \n",
       "\n",
       "                                               title  \n",
       "0                                 Письма из Венеции   \n",
       "1   🎄🎄🎄А Вы уже ощущаете праздник и новогоднее на...  \n",
       "2   🔥🔥🔥PoisonBox дарит возможности!!! 🔥🔥🔥    В эт...  \n",
       "3   БЕСПЛАТНАЯ открытая тренировка по CROSSFIT!  ...  \n",
       "4   🇩🇪 Хотите работать в Германии, но не владеете...  "
      ]
     },
     "execution_count": 3,
     "metadata": {},
     "output_type": "execute_result"
    }
   ],
   "source": [
    "df = pd.read_csv('./data.csv')\n",
    "df = df.replace(r'\\\\n',' ', regex=True) \n",
    "\n",
    "df['tags'] = df['tags'].map(eval) \n",
    "df['tags'] = df['tags'].map(lambda x: set(x))\n",
    "\n",
    "df.head()"
   ]
  },
  {
   "cell_type": "markdown",
   "metadata": {},
   "source": [
    "Remove lines where only 1 uniqie tag"
   ]
  },
  {
   "cell_type": "code",
   "execution_count": 4,
   "metadata": {},
   "outputs": [
    {
     "name": "stdout",
     "output_type": "stream",
     "text": [
      "total count: 77 \n",
      " >2 tags: 33\n"
     ]
    }
   ],
   "source": [
    "from collections import Counter\n",
    "\n",
    "counter = Counter()\n",
    "for tags in df['tags'].values:\n",
    "    for t in tags:\n",
    "        counter[t] += 1\n",
    "counter\n",
    "\n",
    "arr = []\n",
    "for i in counter:\n",
    "    if counter[i] > 2:\n",
    "        arr.append(i);\n",
    "        \n",
    "print('total count:', len(counter), '\\n >2 tags:', len(arr))"
   ]
  },
  {
   "cell_type": "code",
   "execution_count": 5,
   "metadata": {},
   "outputs": [
    {
     "data": {
      "text/plain": [
       "(167, 3)"
      ]
     },
     "execution_count": 5,
     "metadata": {},
     "output_type": "execute_result"
    }
   ],
   "source": [
    "tags_white_list = set(arr)\n",
    "df['tags'] = df['tags'].map(lambda x: set(x).intersection(tags_white_list))\n",
    "df = df[df.tags.map(len) > 0]\n",
    "\n",
    "df.shape"
   ]
  },
  {
   "cell_type": "code",
   "execution_count": 6,
   "metadata": {},
   "outputs": [
    {
     "name": "stdout",
     "output_type": "stream",
     "text": [
      "[nltk_data] Downloading package wordnet to\n",
      "[nltk_data]     /Users/happylol/nltk_data...\n",
      "[nltk_data]   Package wordnet is already up-to-date!\n"
     ]
    }
   ],
   "source": [
    "import gensim\n",
    "from gensim.utils import simple_preprocess\n",
    "from gensim.parsing.preprocessing import STOPWORDS\n",
    "from nltk.stem import WordNetLemmatizer, SnowballStemmer\n",
    "from nltk.stem.porter import *\n",
    "import numpy as np\n",
    "np.random.seed(2018)\n",
    "import nltk\n",
    "from stop_words import get_stop_words\n",
    "nltk.download('wordnet')\n",
    "stemmer = SnowballStemmer('russian')\n",
    "\n",
    "import json\n",
    "from html.parser import HTMLParser\n",
    "\n",
    "class MLStripper(HTMLParser):\n",
    "    def __init__(self):\n",
    "        self.reset()\n",
    "        self.strict = False\n",
    "        self.convert_charrefs= True\n",
    "        self.fed = []\n",
    "    def handle_data(self, d):\n",
    "        self.fed.append(d)\n",
    "    def get_data(self):\n",
    "        return ''.join(self.fed)\n",
    "\n",
    "def strip_tags(html):\n",
    "    s = MLStripper()\n",
    "    s.feed(html)\n",
    "    return s.get_data()\n",
    "\n",
    "def standardize_text(df, text_field):\n",
    "    df[text_field] = df[text_field].apply(strip_tags)\n",
    "    df[text_field] = df[text_field].str.replace(r\"http\\S+\", \"\")\n",
    "    df[text_field] = df[text_field].str.replace(r\"http\", \"\")\n",
    "    df[text_field] = df[text_field].str.replace(r\"[^а-яА-Яa-zA-Z]\", \" \")\n",
    "    df[text_field] = df[text_field].str.replace(r\"\\s+\", \" \")\n",
    "    \n",
    "    df[text_field] = df[text_field].str.lower()\n",
    "    \n",
    "    stop_words = get_stop_words('russian')\n",
    "    \n",
    "    def stem (text):\n",
    "        temp = []\n",
    "        for word in text.split(\" \"):\n",
    "            if len(word) > 2 and word not in stop_words:\n",
    "                temp.append(stemmer.stem(word))\n",
    "        return \" \".join(temp)\n",
    "        \n",
    "            \n",
    "    df[text_field] = df[text_field].apply(stem)\n",
    "    \n",
    "    return df"
   ]
  },
  {
   "cell_type": "code",
   "execution_count": 7,
   "metadata": {},
   "outputs": [
    {
     "data": {
      "text/html": [
       "<div>\n",
       "<style scoped>\n",
       "    .dataframe tbody tr th:only-of-type {\n",
       "        vertical-align: middle;\n",
       "    }\n",
       "\n",
       "    .dataframe tbody tr th {\n",
       "        vertical-align: top;\n",
       "    }\n",
       "\n",
       "    .dataframe thead th {\n",
       "        text-align: right;\n",
       "    }\n",
       "</style>\n",
       "<table border=\"1\" class=\"dataframe\">\n",
       "  <thead>\n",
       "    <tr style=\"text-align: right;\">\n",
       "      <th></th>\n",
       "      <th>tags</th>\n",
       "      <th>text</th>\n",
       "      <th>title</th>\n",
       "    </tr>\n",
       "  </thead>\n",
       "  <tbody>\n",
       "    <tr>\n",
       "      <th>0</th>\n",
       "      <td>{выставка}</td>\n",
       "      <td>никт оста равнодушн венец город тысяч лиц суще...</td>\n",
       "      <td>письм венец</td>\n",
       "    </tr>\n",
       "    <tr>\n",
       "      <th>1</th>\n",
       "      <td>{фитнес, праздник}</td>\n",
       "      <td>ощуща праздник новогодн настроен декабр фитнес...</td>\n",
       "      <td>ощуща праздник новогодн настроен декабр</td>\n",
       "    </tr>\n",
       "    <tr>\n",
       "      <th>2</th>\n",
       "      <td>{тренировка, фитнес}</td>\n",
       "      <td>poisonbox дар возможн суббот декабр состо откр...</td>\n",
       "      <td>poisonbox дар возможн суббот декабр состо откр...</td>\n",
       "    </tr>\n",
       "    <tr>\n",
       "      <th>3</th>\n",
       "      <td>{тренировка, фитнес}</td>\n",
       "      <td>бесплатн открыт тренировк crossf приход проб д...</td>\n",
       "      <td>бесплатн открыт тренировк crossf приход проб д...</td>\n",
       "    </tr>\n",
       "    <tr>\n",
       "      <th>6</th>\n",
       "      <td>{тренировка, фитнес, trx}</td>\n",
       "      <td>вниман открыт занят trx super набор дневн груп...</td>\n",
       "      <td>вниман открыт занят trx super набор дневн групп</td>\n",
       "    </tr>\n",
       "  </tbody>\n",
       "</table>\n",
       "</div>"
      ],
      "text/plain": [
       "                        tags  \\\n",
       "0                 {выставка}   \n",
       "1         {фитнес, праздник}   \n",
       "2       {тренировка, фитнес}   \n",
       "3       {тренировка, фитнес}   \n",
       "6  {тренировка, фитнес, trx}   \n",
       "\n",
       "                                                text  \\\n",
       "0  никт оста равнодушн венец город тысяч лиц суще...   \n",
       "1  ощуща праздник новогодн настроен декабр фитнес...   \n",
       "2  poisonbox дар возможн суббот декабр состо откр...   \n",
       "3  бесплатн открыт тренировк crossf приход проб д...   \n",
       "6  вниман открыт занят trx super набор дневн груп...   \n",
       "\n",
       "                                               title  \n",
       "0                                        письм венец  \n",
       "1            ощуща праздник новогодн настроен декабр  \n",
       "2  poisonbox дар возможн суббот декабр состо откр...  \n",
       "3  бесплатн открыт тренировк crossf приход проб д...  \n",
       "6    вниман открыт занят trx super набор дневн групп  "
      ]
     },
     "execution_count": 7,
     "metadata": {},
     "output_type": "execute_result"
    }
   ],
   "source": [
    "df = standardize_text(df, 'text')\n",
    "df = standardize_text(df, 'title')\n",
    "\n",
    "df.head()"
   ]
  },
  {
   "cell_type": "code",
   "execution_count": 8,
   "metadata": {},
   "outputs": [
    {
     "name": "stdout",
     "output_type": "stream",
     "text": [
      "(311, 5)\n"
     ]
    }
   ],
   "source": [
    "rows = []\n",
    "\n",
    "for row in df.to_dict(orient='record'):\n",
    "    for tag in row['tags']:\n",
    "        row_copy = row.copy()\n",
    "        row_copy['tag'] = tag\n",
    "        \n",
    "        rows.append(row_copy)\n",
    "        \n",
    "df = pd.DataFrame(rows)\n",
    "\n",
    "df['fulltext'] = df[['text', 'title']].apply(lambda x: ' '.join(x), axis=1)\n",
    "\n",
    "print(df.shape)"
   ]
  },
  {
   "cell_type": "code",
   "execution_count": 11,
   "metadata": {},
   "outputs": [
    {
     "name": "stdout",
     "output_type": "stream",
     "text": [
      "(array(['DJ', 'english', 'it', 'trx', 'вечеринка', 'выставка', 'гитара',\n",
      "       'дети', 'джаз', 'дизайн', 'инвестиции', 'кино', 'конкурс',\n",
      "       'концерт', 'лекция', 'маркет', 'митап', 'музыка', 'нетворкинг',\n",
      "       'обучение', 'праздник', 'программирование', 'семинар', 'стартап',\n",
      "       'танцы', 'театр', 'тенис', 'тренировка', 'турнир', 'фильм',\n",
      "       'фитнес', 'фотография', 'ярмарка'], dtype=object), array([ 6,  3,  6,  2, 18,  5,  3, 12,  3,  3,  3,  3,  2,  2,  6,  3, 19,\n",
      "       33,  3,  9, 12,  3,  2,  3,  3,  4,  3, 11,  3,  3, 13,  2, 11]))\n",
      "(array(['DJ', 'english', 'it', 'trx', 'вечеринка', 'выставка', 'гитара',\n",
      "       'дети', 'джаз', 'дизайн', 'инвестиции', 'кино', 'конкурс',\n",
      "       'концерт', 'лекция', 'маркет', 'митап', 'музыка', 'нетворкинг',\n",
      "       'обучение', 'праздник', 'программирование', 'семинар', 'стартап',\n",
      "       'танцы', 'театр', 'тенис', 'тренировка', 'турнир', 'фильм',\n",
      "       'фитнес', 'фотография', 'ярмарка'], dtype=object), array([ 2,  2,  3,  1,  8,  2,  2,  5,  2,  1,  1,  1,  1,  1,  2,  1,  8,\n",
      "       15,  1,  4,  5,  1,  1,  2,  1,  2,  1,  5,  1,  1,  5,  1,  5]))\n"
     ]
    }
   ],
   "source": [
    "from sklearn.model_selection import train_test_split\n",
    "\n",
    "train, test = train_test_split(df, test_size=0.3, stratify=df['tag'].values)\n",
    "\n",
    "print(np.unique(train['tag'].values, return_counts=True))\n",
    "print(np.unique(test['tag'].values, return_counts=True))"
   ]
  },
  {
   "cell_type": "code",
   "execution_count": 55,
   "metadata": {},
   "outputs": [],
   "source": [
    "# %%bash\n",
    "\n",
    "# pip install -U -q git+https://github.com/facebookresearch/fastText.git\n",
    "\n",
    "import fastText\n",
    "\n",
    "FIELD = 'fulltext'"
   ]
  },
  {
   "cell_type": "code",
   "execution_count": 56,
   "metadata": {},
   "outputs": [],
   "source": [
    "def save(df, path):\n",
    "    with open(path, 'w+') as f:\n",
    "        for _, row in df.iterrows():\n",
    "            f.write('__label__{} {}\\n'.format(row['tag'], row[FIELD]))"
   ]
  },
  {
   "cell_type": "code",
   "execution_count": 57,
   "metadata": {},
   "outputs": [],
   "source": [
    "# save(df, '/tmp/train.data')\n",
    "save(train, '/tmp/train.data')"
   ]
  },
  {
   "cell_type": "code",
   "execution_count": 58,
   "metadata": {},
   "outputs": [],
   "source": [
    "model = fastText.train_supervised('/tmp/train.data',\n",
    "                                  pretrainedVectors='/tmp/ml/fasttext/cc.ru.300.vec',\n",
    "                                  dim=300,\n",
    "                                  thread=15,\n",
    "                                  epoch=50,\n",
    "                                  verbose=8)"
   ]
  },
  {
   "cell_type": "code",
   "execution_count": 59,
   "metadata": {},
   "outputs": [],
   "source": [
    "labels, probs = model.predict(test[FIELD].tolist(), k=5)\n",
    "labels = [ll[0].replace('__label__', '') for ll in labels]"
   ]
  },
  {
   "cell_type": "code",
   "execution_count": 60,
   "metadata": {},
   "outputs": [
    {
     "name": "stdout",
     "output_type": "stream",
     "text": [
      "                  precision    recall  f1-score   support\n",
      "\n",
      "              DJ       0.00      0.00      0.00         2\n",
      "         english       0.00      0.00      0.00         2\n",
      "              it       0.00      0.00      0.00         3\n",
      "             trx       0.00      0.00      0.00         1\n",
      "       вечеринка       0.14      0.12      0.13         8\n",
      "        выставка       0.50      0.50      0.50         2\n",
      "          гитара       0.00      0.00      0.00         2\n",
      "            дети       0.00      0.00      0.00         5\n",
      "            джаз       0.50      0.50      0.50         2\n",
      "          дизайн       0.00      0.00      0.00         1\n",
      "      инвестиции       0.00      0.00      0.00         1\n",
      "            кино       0.00      0.00      0.00         1\n",
      "         конкурс       0.00      0.00      0.00         1\n",
      "         концерт       0.00      0.00      0.00         1\n",
      "          лекция       0.00      0.00      0.00         2\n",
      "          маркет       0.00      0.00      0.00         1\n",
      "           митап       0.43      0.38      0.40         8\n",
      "          музыка       0.31      0.27      0.29        15\n",
      "      нетворкинг       0.00      0.00      0.00         1\n",
      "        обучение       0.00      0.00      0.00         4\n",
      "        праздник       0.22      0.40      0.29         5\n",
      "программирование       0.00      0.00      0.00         1\n",
      "         семинар       0.00      0.00      0.00         1\n",
      "         стартап       0.00      0.00      0.00         2\n",
      "           танцы       1.00      1.00      1.00         1\n",
      "           театр       0.33      0.50      0.40         2\n",
      "           тенис       0.00      0.00      0.00         1\n",
      "      тренировка       0.17      0.20      0.18         5\n",
      "          турнир       0.00      0.00      0.00         1\n",
      "           фильм       0.00      0.00      0.00         1\n",
      "          фитнес       0.25      0.20      0.22         5\n",
      "      фотография       0.00      0.00      0.00         1\n",
      "         ярмарка       0.33      0.40      0.36         5\n",
      "\n",
      "       micro avg       0.19      0.19      0.19        94\n",
      "       macro avg       0.13      0.14      0.13        94\n",
      "    weighted avg       0.19      0.19      0.19        94\n",
      "\n"
     ]
    },
    {
     "name": "stderr",
     "output_type": "stream",
     "text": [
      "/Users/happylol/anaconda3/lib/python3.6/site-packages/sklearn/metrics/classification.py:1143: UndefinedMetricWarning: Precision and F-score are ill-defined and being set to 0.0 in labels with no predicted samples.\n",
      "  'precision', 'predicted', average, warn_for)\n"
     ]
    }
   ],
   "source": [
    "from sklearn.metrics import classification_report\n",
    "print(classification_report(test['tag'].values, labels))"
   ]
  },
  {
   "cell_type": "markdown",
   "metadata": {},
   "source": [
    "## Production model"
   ]
  },
  {
   "cell_type": "code",
   "execution_count": 18,
   "metadata": {},
   "outputs": [],
   "source": [
    "%%time\n",
    "save(df, '/tmp/train.data')\n",
    "model = fastText.train_supervised('/tmp/train.data',\n",
    "                                  pretrainedVectors='/tmp/ml/fasttext/cc.ru.300.vec',\n",
    "                                  dim=300,\n",
    "                                  thread=15,\n",
    "                                  epoch=50,\n",
    "                                  verbose=8)\n",
    "\n",
    "model.quantize(qnorm=True, cutoff=100000)\n",
    "model.save_model('tags_model')"
   ]
  },
  {
   "cell_type": "code",
   "execution_count": 61,
   "metadata": {},
   "outputs": [],
   "source": [
    "labels, probs = model.predict(test[FIELD].tolist(), k=5)"
   ]
  },
  {
   "cell_type": "code",
   "execution_count": 62,
   "metadata": {},
   "outputs": [
    {
     "name": "stdout",
     "output_type": "stream",
     "text": [
      "{'вечеринка', 'музыка'} {'гитара', 'музыка'}\n",
      "{'музыка', 'вечеринка', 'гитара'} {'вечеринка', 'джаз', 'музыка'}\n",
      "{'вечеринка', 'музыка', 'конкурс'} {'стартап', 'вечеринка', 'конкурс'}\n",
      "{'митап', 'it', 'дизайн'} {'программирование', 'митап', 'it'}\n",
      "{'дети', 'обучение', 'лекция'} {'дети', 'тенис', 'праздник'}\n",
      "{'дети', 'тренировка'} {'тренировка', 'фитнес'}\n",
      "{'семинар', 'инвестиции', 'митап'} {'семинар', 'инвестиции', 'trx'}\n",
      "{'ярмарка', 'фотография', 'вечеринка'} {'обучение', 'фотография', 'вечеринка'}\n",
      "{'ярмарка'} {'маркет'}\n",
      "{'фотография', 'выставка'} {'ярмарка', 'выставка'}\n",
      "{'вечеринка', 'музыка'} {'вечеринка', 'танцы'}\n",
      "{'семинар', 'обучение'} {'обучение', 'лекция'}\n",
      "{'DJ', 'музыка'} {'DJ', 'вечеринка'}\n",
      "{'нетворкинг', 'инвестиции', 'митап'} {'семинар', 'инвестиции', 'митап'}\n",
      "{'маркет'} {'ярмарка'}\n",
      "{'фотография', 'выставка'} {'ярмарка', 'выставка'}\n",
      "{'нетворкинг', 'ярмарка', 'it'} {'стартап', 'нетворкинг', 'митап'}\n",
      "{'дети', 'театр'} {'дети', 'праздник'}\n",
      "{'english'} {'обучение'}\n",
      "{'стартап', 'митап'} {'митап', 'it'}\n",
      "{'нетворкинг', 'ярмарка', 'it'} {'стартап', 'нетворкинг', 'митап'}\n",
      "{'концерт'} {'ярмарка'}\n",
      "{'турнир', 'тенис'} {'маркет', 'турнир'}\n",
      "{'ярмарка', 'фотография', 'вечеринка'} {'обучение', 'фотография', 'вечеринка'}\n",
      "{'кино'} {'фильм'}\n",
      "{'семинар', 'инвестиции', 'митап'} {'семинар', 'инвестиции', 'trx'}\n",
      "{'музыка', 'обучение', 'ярмарка', 'вечеринка'} {'вечеринка', 'ярмарка', 'фотография', 'обучение'}\n",
      "{'фитнес', 'праздник', 'конкурс'} {'дети', 'фитнес', 'праздник'}\n",
      "{'DJ', 'музыка'} {'вечеринка', 'музыка'}\n",
      "{'стартап', 'митап'} {'стартап', 'нетворкинг'}\n",
      "{'фитнес', 'праздник', 'конкурс'} {'дети', 'фитнес', 'праздник'}\n",
      "{'программирование', 'обучение', 'лекция'} {'english', 'обучение', 'лекция'}\n",
      "{'дети', 'обучение', 'лекция'} {'дети', 'тенис', 'праздник'}\n",
      "{'музыка'} {'ярмарка'}\n",
      "{'стартап', 'митап'} {'митап', 'it'}\n",
      "{'нетворкинг', 'инвестиции', 'митап'} {'семинар', 'инвестиции', 'митап'}\n",
      "{'программирование', 'обучение', 'лекция'} {'english', 'обучение', 'лекция'}\n",
      "{'дети', 'тренировка', 'тенис'} {'дети', 'english', 'тенис'}\n",
      "{'ярмарка', 'лекция', 'выставка'} {'обучение', 'ярмарка', 'лекция'}\n",
      "{'лекция'} {'митап'}\n",
      "{'стартап', 'вечеринка', 'митап'} {'стартап', 'вечеринка', 'музыка'}\n",
      "Accuracy: 0.5638297872340425\n"
     ]
    }
   ],
   "source": [
    "mistakes = 0;\n",
    "for i, item in enumerate(test['tags']):\n",
    "    length = len(item)\n",
    "    \n",
    "    prediction = map(lambda x: x.replace('__label__', ''), labels[i][0:length:])\n",
    "    prediction = set(prediction)\n",
    "    \n",
    "    if (item != prediction):\n",
    "        print(item, prediction)\n",
    "        mistakes += 1\n",
    "        \n",
    "print('Accuracy:', (test.shape[0] - mistakes) / test.shape[0])"
   ]
  },
  {
   "cell_type": "code",
   "execution_count": null,
   "metadata": {},
   "outputs": [],
   "source": []
  }
 ],
 "metadata": {
  "kernelspec": {
   "display_name": "Python 3",
   "language": "python",
   "name": "python3"
  },
  "language_info": {
   "codemirror_mode": {
    "name": "ipython",
    "version": 3
   },
   "file_extension": ".py",
   "mimetype": "text/x-python",
   "name": "python",
   "nbconvert_exporter": "python",
   "pygments_lexer": "ipython3",
   "version": "3.6.7"
  }
 },
 "nbformat": 4,
 "nbformat_minor": 2
}
