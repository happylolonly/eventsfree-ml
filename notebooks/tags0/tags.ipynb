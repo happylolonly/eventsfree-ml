{
 "cells": [
  {
   "cell_type": "code",
   "execution_count": null,
   "metadata": {},
   "outputs": [],
   "source": [
    "!wget https://raw.githubusercontent.com/happylolonly/events-free-ml/master/tags/data/data.csv"
   ]
  },
  {
   "cell_type": "code",
   "execution_count": null,
   "metadata": {},
   "outputs": [],
   "source": [
    "# !wget https://s3-us-west-1.amazonaws.com/fasttext-vectors/word-vectors-v2/cc.ru.300.bin.gz"
   ]
  },
  {
   "cell_type": "code",
   "execution_count": null,
   "metadata": {},
   "outputs": [],
   "source": [
    "# !wget https://s3-us-west-1.amazonaws.com/fasttext-vectors/word-vectors-v2/cc.ru.300.vec.gz"
   ]
  },
  {
   "cell_type": "code",
   "execution_count": null,
   "metadata": {},
   "outputs": [],
   "source": [
    "# !gunzip cc.ru.300.bin.gz\n",
    "# !gunzip cc.ru.300.vec.gz"
   ]
  },
  {
   "cell_type": "code",
   "execution_count": 1,
   "metadata": {
    "scrolled": true
   },
   "outputs": [],
   "source": [
    "import pandas as pd"
   ]
  },
  {
   "cell_type": "code",
   "execution_count": 2,
   "metadata": {},
   "outputs": [
    {
     "data": {
      "text/plain": [
       "(154, 3)"
      ]
     },
     "execution_count": 2,
     "metadata": {},
     "output_type": "execute_result"
    }
   ],
   "source": [
    "df = pd.read_csv('/Users/happylol/Desktop/projects/ml/events-free-ml/tags/data/data.csv')\n",
    "df.head()\n",
    "\n",
    "df['tags'] = df['tags'].map(eval) \n",
    "# tags_white_list = {'митап', 'музыка', 'тренировка', 'дети', 'вечеринка'}\n",
    "tags_white_list = {'выставка', 'праздник', 'фитнес', 'тренировка', 'работа', 'вебинар', 'германия', 'trx', 'english', 'лекция', 'обучение', 'музыка', 'джаз', 'форро', 'танцы', 'it', 'митап', 'дизайн', 'семинар', 'концерт', 'конкурс', 'вечеринка', 'ярмарка', 'тенис', 'турнир', 'театр', 'фотография', 'фильм', 'кино', 'сальса', 'дети', 'гитара', 'стартап', 'инвестиции', 'маркет', 'чемпионат', 'программирование', 'нетворкинг', 'право', 'день рождения', 'презентация', 'блокчейн', 'финтех', 'тестирование'}\n",
    "# tags_white_list = {'выставка', 'фитнес', 'праздник', 'тренировка', 'лекция', 'обучение', 'музыка', 'it', 'митап', 'вечеринка', 'ярмарка', 'дети'}\n",
    "# tags_white_list = {'фитнес', 'праздник', 'тренировка', 'обучение', 'музыка', 'митап', 'вечеринка', 'ярмарка', 'дети'}\n",
    "# df['tags'] = df['tags'].map(lambda x: set(x))\n",
    "df['tags'] = df['tags'].map(lambda x: set(x).intersection(tags_white_list))\n",
    "# .intersection(tags_white_list)\n",
    "df = df[df.tags.map(len) > 0]\n",
    "\n",
    "df.head()\n",
    "df.shape"
   ]
  },
  {
   "cell_type": "code",
   "execution_count": 3,
   "metadata": {},
   "outputs": [
    {
     "name": "stdout",
     "output_type": "stream",
     "text": [
      "[nltk_data] Downloading package wordnet to\n",
      "[nltk_data]     /Users/happylol/nltk_data...\n",
      "[nltk_data]   Package wordnet is already up-to-date!\n"
     ]
    }
   ],
   "source": [
    "import gensim\n",
    "from gensim.utils import simple_preprocess\n",
    "from gensim.parsing.preprocessing import STOPWORDS\n",
    "from nltk.stem import WordNetLemmatizer, SnowballStemmer\n",
    "from nltk.stem.porter import *\n",
    "import numpy as np\n",
    "np.random.seed(2018)\n",
    "import nltk\n",
    "nltk.download('wordnet')\n",
    "stemmer = SnowballStemmer('russian')\n",
    "\n",
    "import json\n",
    "from html.parser import HTMLParser\n",
    "\n",
    "class MLStripper(HTMLParser):\n",
    "    def __init__(self):\n",
    "        self.reset()\n",
    "        self.strict = False\n",
    "        self.convert_charrefs= True\n",
    "        self.fed = []\n",
    "    def handle_data(self, d):\n",
    "        self.fed.append(d)\n",
    "    def get_data(self):\n",
    "        return ''.join(self.fed)\n",
    "\n",
    "def strip_tags(html):\n",
    "    s = MLStripper()\n",
    "    s.feed(html)\n",
    "    return s.get_data()\n",
    "\n",
    "def standardize_text(df, text_field):\n",
    "    df[text_field] = df[text_field].apply(strip_tags)\n",
    "    df[text_field] = df[text_field].str.replace(r\"http\\S+\", \"\")\n",
    "    df[text_field] = df[text_field].str.replace(r\"http\", \"\")\n",
    "    df[text_field] = df[text_field].str.replace(r\"[^а-яА-Я0-9a-zA-Z]\", \" \")\n",
    "    df[text_field] = df[text_field].str.replace(r\"\\s+\", \" \")\n",
    "    df[text_field] = df[text_field].str.lower()\n",
    "    return df"
   ]
  },
  {
   "cell_type": "code",
   "execution_count": 4,
   "metadata": {},
   "outputs": [
    {
     "data": {
      "text/html": [
       "<div>\n",
       "<style scoped>\n",
       "    .dataframe tbody tr th:only-of-type {\n",
       "        vertical-align: middle;\n",
       "    }\n",
       "\n",
       "    .dataframe tbody tr th {\n",
       "        vertical-align: top;\n",
       "    }\n",
       "\n",
       "    .dataframe thead th {\n",
       "        text-align: right;\n",
       "    }\n",
       "</style>\n",
       "<table border=\"1\" class=\"dataframe\">\n",
       "  <thead>\n",
       "    <tr style=\"text-align: right;\">\n",
       "      <th></th>\n",
       "      <th>title</th>\n",
       "      <th>text</th>\n",
       "      <th>tags</th>\n",
       "    </tr>\n",
       "  </thead>\n",
       "  <tbody>\n",
       "    <tr>\n",
       "      <th>0</th>\n",
       "      <td>письма из венеции</td>\n",
       "      <td>никто не может остаться равнодушным к венеции ...</td>\n",
       "      <td>{выставка}</td>\n",
       "    </tr>\n",
       "    <tr>\n",
       "      <th>1</th>\n",
       "      <td>а вы уже ощущаете праздник и новогоднее настр...</td>\n",
       "      <td>а вы уже ощущаете праздник и новогоднее настр...</td>\n",
       "      <td>{фитнес, праздник}</td>\n",
       "    </tr>\n",
       "    <tr>\n",
       "      <th>2</th>\n",
       "      <td>poisonbox дарит возможности n nв эту субботу ...</td>\n",
       "      <td>poisonbox дарит возможности n nв эту субботу ...</td>\n",
       "      <td>{тренировка, фитнес}</td>\n",
       "    </tr>\n",
       "    <tr>\n",
       "      <th>3</th>\n",
       "      <td>бесплатная открытая тренировка по crossfit n ...</td>\n",
       "      <td>бесплатная открытая тренировка по crossfit n n...</td>\n",
       "      <td>{тренировка, фитнес}</td>\n",
       "    </tr>\n",
       "    <tr>\n",
       "      <th>4</th>\n",
       "      <td>хотите работать в германии но не владеете дос...</td>\n",
       "      <td>хотите работать в германии но не владеете дос...</td>\n",
       "      <td>{германия, работа, вебинар}</td>\n",
       "    </tr>\n",
       "    <tr>\n",
       "      <th>5</th>\n",
       "      <td>хотите работать в германии но не владеете дос...</td>\n",
       "      <td>хотите работать в германии но не владеете дос...</td>\n",
       "      <td>{германия, работа, вебинар}</td>\n",
       "    </tr>\n",
       "    <tr>\n",
       "      <th>6</th>\n",
       "      <td>внимание n nоткрытое занятие по trx и super 8...</td>\n",
       "      <td>внимание n nоткрытое занятие по trx и super 8 ...</td>\n",
       "      <td>{тренировка, фитнес, trx}</td>\n",
       "    </tr>\n",
       "    <tr>\n",
       "      <th>7</th>\n",
       "      <td>открытое занятие по trx и super 8 а так же на...</td>\n",
       "      <td>открытое занятие по trx и super 8 а так же на...</td>\n",
       "      <td>{тренировка, фитнес, trx}</td>\n",
       "    </tr>\n",
       "    <tr>\n",
       "      <th>8</th>\n",
       "      <td>демонстрационное занятие по английскому n nес...</td>\n",
       "      <td>демонстрационное занятие по английскому n nесл...</td>\n",
       "      <td>{лекция, обучение, english}</td>\n",
       "    </tr>\n",
       "    <tr>\n",
       "      <th>9</th>\n",
       "      <td>открытый урок nфитнес центр lifestyle fitness...</td>\n",
       "      <td>открытый урок nфитнес центр lifestyle fitness...</td>\n",
       "      <td>{тренировка, фитнес}</td>\n",
       "    </tr>\n",
       "    <tr>\n",
       "      <th>10</th>\n",
       "      <td>n20 и 21 декабря в фитнес клубе старт будет п...</td>\n",
       "      <td>n20 и 21 декабря в фитнес клубе старт будет п...</td>\n",
       "      <td>{фитнес, праздник}</td>\n",
       "    </tr>\n",
       "    <tr>\n",
       "      <th>11</th>\n",
       "      <td>20 12 2017 среда в 19 00 приглашаем вас на от...</td>\n",
       "      <td>20 12 2017 среда в 19 00 приглашаем вас на отк...</td>\n",
       "      <td>{тренировка, фитнес, trx}</td>\n",
       "    </tr>\n",
       "    <tr>\n",
       "      <th>12</th>\n",
       "      <td>демонстрационное занятие по английскому n nес...</td>\n",
       "      <td>демонстрационное занятие по английскому n nесл...</td>\n",
       "      <td>{лекция, обучение, english}</td>\n",
       "    </tr>\n",
       "    <tr>\n",
       "      <th>13</th>\n",
       "      <td>рождественский джаз nв эту среду 20 декабря n...</td>\n",
       "      <td>рождественский джаз nв эту среду 20 декабря n ...</td>\n",
       "      <td>{джаз, музыка}</td>\n",
       "    </tr>\n",
       "    <tr>\n",
       "      <th>14</th>\n",
       "      <td>21 декабря бц парус г минск ул мележа 1 офис ...</td>\n",
       "      <td>21 декабря бц парус г минск ул мележа 1 офис 2...</td>\n",
       "      <td>{лекция, обучение}</td>\n",
       "    </tr>\n",
       "    <tr>\n",
       "      <th>15</th>\n",
       "      <td>фитнес проект второе дыхание приглашает парне...</td>\n",
       "      <td>фитнес проект второе дыхание приглашает парней...</td>\n",
       "      <td>{тренировка, фитнес}</td>\n",
       "    </tr>\n",
       "    <tr>\n",
       "      <th>16</th>\n",
       "      <td>приглашаем на бесплатное пробное занятие по т...</td>\n",
       "      <td>приглашаем на бесплатное пробное занятие по та...</td>\n",
       "      <td>{танцы, форро}</td>\n",
       "    </tr>\n",
       "    <tr>\n",
       "      <th>17</th>\n",
       "      <td>meetup с профессиональным ux ui дизайнером из...</td>\n",
       "      <td>meetup с профессиональным ux ui дизайнером из ...</td>\n",
       "      <td>{it, митап, дизайн}</td>\n",
       "    </tr>\n",
       "    <tr>\n",
       "      <th>18</th>\n",
       "      <td>23 24 декабря бц парус г минск ул мележа 1 оф...</td>\n",
       "      <td>23 24 декабря бц парус г минск ул мележа 1 офи...</td>\n",
       "      <td>{семинар, обучение}</td>\n",
       "    </tr>\n",
       "    <tr>\n",
       "      <th>19</th>\n",
       "      <td>23 декабря ул п бровки 8а начало в 16 00 nпри...</td>\n",
       "      <td>23 декабря ул п бровки 8а начало в 16 00 nприг...</td>\n",
       "      <td>{танцы, форро}</td>\n",
       "    </tr>\n",
       "  </tbody>\n",
       "</table>\n",
       "</div>"
      ],
      "text/plain": [
       "                                                title  \\\n",
       "0                                  письма из венеции    \n",
       "1    а вы уже ощущаете праздник и новогоднее настр...   \n",
       "2    poisonbox дарит возможности n nв эту субботу ...   \n",
       "3    бесплатная открытая тренировка по crossfit n ...   \n",
       "4    хотите работать в германии но не владеете дос...   \n",
       "5    хотите работать в германии но не владеете дос...   \n",
       "6    внимание n nоткрытое занятие по trx и super 8...   \n",
       "7    открытое занятие по trx и super 8 а так же на...   \n",
       "8    демонстрационное занятие по английскому n nес...   \n",
       "9    открытый урок nфитнес центр lifestyle fitness...   \n",
       "10   n20 и 21 декабря в фитнес клубе старт будет п...   \n",
       "11   20 12 2017 среда в 19 00 приглашаем вас на от...   \n",
       "12   демонстрационное занятие по английскому n nес...   \n",
       "13   рождественский джаз nв эту среду 20 декабря n...   \n",
       "14   21 декабря бц парус г минск ул мележа 1 офис ...   \n",
       "15   фитнес проект второе дыхание приглашает парне...   \n",
       "16   приглашаем на бесплатное пробное занятие по т...   \n",
       "17   meetup с профессиональным ux ui дизайнером из...   \n",
       "18   23 24 декабря бц парус г минск ул мележа 1 оф...   \n",
       "19   23 декабря ул п бровки 8а начало в 16 00 nпри...   \n",
       "\n",
       "                                                 text  \\\n",
       "0   никто не может остаться равнодушным к венеции ...   \n",
       "1    а вы уже ощущаете праздник и новогоднее настр...   \n",
       "2    poisonbox дарит возможности n nв эту субботу ...   \n",
       "3   бесплатная открытая тренировка по crossfit n n...   \n",
       "4    хотите работать в германии но не владеете дос...   \n",
       "5    хотите работать в германии но не владеете дос...   \n",
       "6   внимание n nоткрытое занятие по trx и super 8 ...   \n",
       "7    открытое занятие по trx и super 8 а так же на...   \n",
       "8   демонстрационное занятие по английскому n nесл...   \n",
       "9    открытый урок nфитнес центр lifestyle fitness...   \n",
       "10   n20 и 21 декабря в фитнес клубе старт будет п...   \n",
       "11  20 12 2017 среда в 19 00 приглашаем вас на отк...   \n",
       "12  демонстрационное занятие по английскому n nесл...   \n",
       "13  рождественский джаз nв эту среду 20 декабря n ...   \n",
       "14  21 декабря бц парус г минск ул мележа 1 офис 2...   \n",
       "15  фитнес проект второе дыхание приглашает парней...   \n",
       "16  приглашаем на бесплатное пробное занятие по та...   \n",
       "17  meetup с профессиональным ux ui дизайнером из ...   \n",
       "18  23 24 декабря бц парус г минск ул мележа 1 офи...   \n",
       "19  23 декабря ул п бровки 8а начало в 16 00 nприг...   \n",
       "\n",
       "                           tags  \n",
       "0                    {выставка}  \n",
       "1            {фитнес, праздник}  \n",
       "2          {тренировка, фитнес}  \n",
       "3          {тренировка, фитнес}  \n",
       "4   {германия, работа, вебинар}  \n",
       "5   {германия, работа, вебинар}  \n",
       "6     {тренировка, фитнес, trx}  \n",
       "7     {тренировка, фитнес, trx}  \n",
       "8   {лекция, обучение, english}  \n",
       "9          {тренировка, фитнес}  \n",
       "10           {фитнес, праздник}  \n",
       "11    {тренировка, фитнес, trx}  \n",
       "12  {лекция, обучение, english}  \n",
       "13               {джаз, музыка}  \n",
       "14           {лекция, обучение}  \n",
       "15         {тренировка, фитнес}  \n",
       "16               {танцы, форро}  \n",
       "17          {it, митап, дизайн}  \n",
       "18          {семинар, обучение}  \n",
       "19               {танцы, форро}  "
      ]
     },
     "execution_count": 4,
     "metadata": {},
     "output_type": "execute_result"
    }
   ],
   "source": [
    "df = standardize_text(df, 'text')\n",
    "df = standardize_text(df, 'title')\n",
    "\n",
    "df.head(20)"
   ]
  },
  {
   "cell_type": "code",
   "execution_count": 5,
   "metadata": {},
   "outputs": [],
   "source": [
    "from collections import Counter\n",
    "\n",
    "counter = Counter()\n",
    "for tags in df['tags'].values:\n",
    "    for t in tags:\n",
    "        counter[t] += 1"
   ]
  },
  {
   "cell_type": "code",
   "execution_count": 6,
   "metadata": {},
   "outputs": [
    {
     "data": {
      "text/plain": [
       "Counter({'выставка': 7,\n",
       "         'фитнес': 17,\n",
       "         'праздник': 14,\n",
       "         'тренировка': 16,\n",
       "         'германия': 2,\n",
       "         'работа': 2,\n",
       "         'вебинар': 2,\n",
       "         'trx': 3,\n",
       "         'лекция': 8,\n",
       "         'обучение': 11,\n",
       "         'english': 5,\n",
       "         'джаз': 5,\n",
       "         'музыка': 36,\n",
       "         'танцы': 4,\n",
       "         'форро': 2,\n",
       "         'it': 7,\n",
       "         'митап': 25,\n",
       "         'дизайн': 3,\n",
       "         'семинар': 3,\n",
       "         'концерт': 3,\n",
       "         'конкурс': 3,\n",
       "         'вечеринка': 20,\n",
       "         'ярмарка': 16,\n",
       "         'турнир': 4,\n",
       "         'тенис': 4,\n",
       "         'театр': 6,\n",
       "         'фотография': 3,\n",
       "         'кино': 4,\n",
       "         'фильм': 4,\n",
       "         'сальса': 2,\n",
       "         'дети': 15,\n",
       "         'гитара': 3,\n",
       "         'стартап': 5,\n",
       "         'инвестиции': 4,\n",
       "         'маркет': 4,\n",
       "         'чемпионат': 2,\n",
       "         'программирование': 3,\n",
       "         'право': 2,\n",
       "         'нетворкинг': 4,\n",
       "         'день рождения': 2,\n",
       "         'презентация': 2,\n",
       "         'блокчейн': 2,\n",
       "         'финтех': 2,\n",
       "         'тестирование': 2})"
      ]
     },
     "execution_count": 6,
     "metadata": {},
     "output_type": "execute_result"
    }
   ],
   "source": [
    "counter"
   ]
  },
  {
   "cell_type": "code",
   "execution_count": 7,
   "metadata": {},
   "outputs": [
    {
     "data": {
      "text/html": [
       "<div>\n",
       "<style scoped>\n",
       "    .dataframe tbody tr th:only-of-type {\n",
       "        vertical-align: middle;\n",
       "    }\n",
       "\n",
       "    .dataframe tbody tr th {\n",
       "        vertical-align: top;\n",
       "    }\n",
       "\n",
       "    .dataframe thead th {\n",
       "        text-align: right;\n",
       "    }\n",
       "</style>\n",
       "<table border=\"1\" class=\"dataframe\">\n",
       "  <thead>\n",
       "    <tr style=\"text-align: right;\">\n",
       "      <th></th>\n",
       "      <th>tag</th>\n",
       "      <th>tags</th>\n",
       "      <th>text</th>\n",
       "      <th>title</th>\n",
       "    </tr>\n",
       "  </thead>\n",
       "  <tbody>\n",
       "    <tr>\n",
       "      <th>0</th>\n",
       "      <td>выставка</td>\n",
       "      <td>{выставка}</td>\n",
       "      <td>никто не может остаться равнодушным к венеции ...</td>\n",
       "      <td>письма из венеции</td>\n",
       "    </tr>\n",
       "    <tr>\n",
       "      <th>1</th>\n",
       "      <td>фитнес</td>\n",
       "      <td>{фитнес, праздник}</td>\n",
       "      <td>а вы уже ощущаете праздник и новогоднее настр...</td>\n",
       "      <td>а вы уже ощущаете праздник и новогоднее настр...</td>\n",
       "    </tr>\n",
       "    <tr>\n",
       "      <th>2</th>\n",
       "      <td>праздник</td>\n",
       "      <td>{фитнес, праздник}</td>\n",
       "      <td>а вы уже ощущаете праздник и новогоднее настр...</td>\n",
       "      <td>а вы уже ощущаете праздник и новогоднее настр...</td>\n",
       "    </tr>\n",
       "    <tr>\n",
       "      <th>3</th>\n",
       "      <td>тренировка</td>\n",
       "      <td>{тренировка, фитнес}</td>\n",
       "      <td>poisonbox дарит возможности n nв эту субботу ...</td>\n",
       "      <td>poisonbox дарит возможности n nв эту субботу ...</td>\n",
       "    </tr>\n",
       "    <tr>\n",
       "      <th>4</th>\n",
       "      <td>фитнес</td>\n",
       "      <td>{тренировка, фитнес}</td>\n",
       "      <td>poisonbox дарит возможности n nв эту субботу ...</td>\n",
       "      <td>poisonbox дарит возможности n nв эту субботу ...</td>\n",
       "    </tr>\n",
       "  </tbody>\n",
       "</table>\n",
       "</div>"
      ],
      "text/plain": [
       "          tag                  tags  \\\n",
       "0    выставка            {выставка}   \n",
       "1      фитнес    {фитнес, праздник}   \n",
       "2    праздник    {фитнес, праздник}   \n",
       "3  тренировка  {тренировка, фитнес}   \n",
       "4      фитнес  {тренировка, фитнес}   \n",
       "\n",
       "                                                text  \\\n",
       "0  никто не может остаться равнодушным к венеции ...   \n",
       "1   а вы уже ощущаете праздник и новогоднее настр...   \n",
       "2   а вы уже ощущаете праздник и новогоднее настр...   \n",
       "3   poisonbox дарит возможности n nв эту субботу ...   \n",
       "4   poisonbox дарит возможности n nв эту субботу ...   \n",
       "\n",
       "                                               title  \n",
       "0                                 письма из венеции   \n",
       "1   а вы уже ощущаете праздник и новогоднее настр...  \n",
       "2   а вы уже ощущаете праздник и новогоднее настр...  \n",
       "3   poisonbox дарит возможности n nв эту субботу ...  \n",
       "4   poisonbox дарит возможности n nв эту субботу ...  "
      ]
     },
     "execution_count": 7,
     "metadata": {},
     "output_type": "execute_result"
    }
   ],
   "source": [
    "rows = []\n",
    "\n",
    "for row in df.to_dict(orient='record'):\n",
    "    for tag in row['tags']:\n",
    "        row_copy = row.copy()\n",
    "        row_copy['tag'] = tag\n",
    "        \n",
    "        rows.append(row_copy)\n",
    "        \n",
    "df = pd.DataFrame(rows)\n",
    "df.head()"
   ]
  },
  {
   "cell_type": "code",
   "execution_count": 8,
   "metadata": {},
   "outputs": [
    {
     "name": "stdout",
     "output_type": "stream",
     "text": [
      "['выставка', 'фитнес', 'праздник', 'тренировка', 'trx', 'лекция', 'обучение', 'english', 'джаз', 'музыка', 'танцы', 'it', 'митап', 'дизайн', 'семинар', 'концерт', 'конкурс', 'вечеринка', 'ярмарка', 'турнир', 'тенис', 'театр', 'фотография', 'кино', 'фильм', 'дети', 'гитара', 'стартап', 'инвестиции', 'маркет', 'программирование', 'нетворкинг']\n",
      "(array(['english', 'it', 'trx', 'блокчейн', 'вебинар', 'вечеринка',\n",
      "       'выставка', 'германия', 'гитара', 'день рождения', 'дети', 'джаз',\n",
      "       'дизайн', 'инвестиции', 'кино', 'конкурс', 'концерт', 'лекция',\n",
      "       'маркет', 'митап', 'музыка', 'нетворкинг', 'обучение', 'право',\n",
      "       'праздник', 'презентация', 'программирование', 'работа', 'сальса',\n",
      "       'семинар', 'стартап', 'танцы', 'театр', 'тенис', 'тестирование',\n",
      "       'тренировка', 'турнир', 'фильм', 'финтех', 'фитнес', 'форро',\n",
      "       'фотография', 'чемпионат', 'ярмарка'], dtype=object), array([ 4,  5,  2,  1,  1, 14,  5,  1,  2,  1, 11,  4,  2,  3,  3,  2,  2,\n",
      "        6,  3, 18, 25,  3,  8,  1, 10,  2,  2,  1,  1,  2,  4,  3,  4,  3,\n",
      "        1, 11,  3,  3,  1, 12,  1,  2,  1, 11]))\n",
      "(array(['english', 'it', 'trx', 'блокчейн', 'вебинар', 'вечеринка',\n",
      "       'выставка', 'германия', 'гитара', 'день рождения', 'дети', 'джаз',\n",
      "       'дизайн', 'инвестиции', 'кино', 'конкурс', 'концерт', 'лекция',\n",
      "       'маркет', 'митап', 'музыка', 'нетворкинг', 'обучение', 'право',\n",
      "       'праздник', 'программирование', 'работа', 'сальса', 'семинар',\n",
      "       'стартап', 'танцы', 'театр', 'тенис', 'тестирование', 'тренировка',\n",
      "       'турнир', 'фильм', 'финтех', 'фитнес', 'форро', 'фотография',\n",
      "       'чемпионат', 'ярмарка'], dtype=object), array([ 1,  2,  1,  1,  1,  6,  2,  1,  1,  1,  4,  1,  1,  1,  1,  1,  1,\n",
      "        2,  1,  7, 11,  1,  3,  1,  4,  1,  1,  1,  1,  1,  1,  2,  1,  1,\n",
      "        5,  1,  1,  1,  5,  1,  1,  1,  5]))\n"
     ]
    }
   ],
   "source": [
    "from sklearn.model_selection import train_test_split\n",
    "\n",
    "newDf = df.copy();\n",
    "\n",
    "\n",
    "arr = []\n",
    "\n",
    "train, test = train_test_split(df, test_size=0.3,  stratify=df['tag'].values)\n",
    "for i in counter:\n",
    "    if counter[i] > 2:\n",
    "        arr.append(i);\n",
    "        \n",
    "        \n",
    "#         print(newDf[newDf['tags'] == i].values)\n",
    "\n",
    "\n",
    "type(newDf['tags'][0])\n",
    "print(arr);\n",
    "print(np.unique(train['tag'].values, return_counts=True))\n",
    "print(np.unique(test['tag'].values, return_counts=True))"
   ]
  },
  {
   "cell_type": "code",
   "execution_count": 9,
   "metadata": {},
   "outputs": [],
   "source": [
    "# %%bash\n",
    "\n",
    "# pip install -U -q git+https://github.com/facebookresearch/fastText.git\n",
    "# import fastText\n",
    "\n",
    "import fastText\n",
    "\n",
    "# fasttext?\n",
    "\n",
    "FIELD = 'text'\n",
    "\n",
    "# print(df)"
   ]
  },
  {
   "cell_type": "code",
   "execution_count": 10,
   "metadata": {},
   "outputs": [],
   "source": [
    "def save(df, path):\n",
    "    with open(path, 'w+') as f:\n",
    "        for _, row in df.iterrows():\n",
    "            f.write('__label__{} {}\\n'.format(row['tag'], row[FIELD]))"
   ]
  },
  {
   "cell_type": "code",
   "execution_count": 11,
   "metadata": {},
   "outputs": [],
   "source": [
    "save(df, '/tmp/train.data')\n",
    "# save(train, '/tmp/train.data')\n",
    "# train.shape\n",
    "# test.shape"
   ]
  },
  {
   "cell_type": "code",
   "execution_count": 12,
   "metadata": {},
   "outputs": [],
   "source": [
    "model = fastText.train_supervised('/tmp/train.data',\n",
    "                                  pretrainedVectors='cc.ru.300.vec',\n",
    "                                  dim=300,\n",
    "                                  thread=15,\n",
    "                                  epoch=50,\n",
    "                                  verbose=8)"
   ]
  },
  {
   "cell_type": "code",
   "execution_count": 13,
   "metadata": {},
   "outputs": [
    {
     "name": "stdout",
     "output_type": "stream",
     "text": [
      "['фитнес', 'лекция', 'митап', 'вебинар', 'митап', 'митап', 'обучение', 'музыка', 'танцы', 'вечеринка', 'ярмарка', 'концерт', 'музыка', 'митап', 'нетворкинг', 'тренировка', 'митап', 'фитнес', 'english', 'фитнес', 'trx', 'trx', 'кино', 'дети', 'музыка', 'программирование', 'музыка', 'музыка', 'день', 'обучение', 'музыка', 'музыка', 'обучение', 'музыка', 'праздник', 'праздник', 'ярмарка', 'дизайн', 'танцы', 'митап', 'финтех', 'фитнес', 'праздник', 'кино', 'дети', 'программирование', 'музыка', 'программирование', 'дети', 'митап', 'лекция', 'ярмарка', 'музыка', 'лекция', 'чемпионат', 'вебинар', 'музыка', 'ярмарка', 'музыка', 'выставка', 'митап', 'музыка', 'trx', 'музыка', 'праздник', 'дизайн', 'митап', 'вечеринка', 'выставка', 'дети', 'стартап', 'митап', 'маркет', 'митап', 'праздник', 'музыка', 'тренировка', 'ярмарка', 'тенис', 'english', 'праздник', 'тенис', 'музыка', 'музыка', 'фитнес', 'вебинар', 'english', 'ярмарка']\n"
     ]
    }
   ],
   "source": [
    "# print(test.shape)\n",
    "labels, probs = model.predict(test[FIELD].tolist())\n",
    "# print(labels, probs)\n",
    "labels = [ll[0].replace('__label__', '') for ll in labels]\n",
    "print(labels)"
   ]
  },
  {
   "cell_type": "code",
   "execution_count": 14,
   "metadata": {},
   "outputs": [],
   "source": [
    "from sklearn.metrics import classification_report\n",
    "# from apihelper import info\n",
    "# dir(model)"
   ]
  },
  {
   "cell_type": "code",
   "execution_count": null,
   "metadata": {},
   "outputs": [],
   "source": [
    "print(classification_report(test['tag'].values, labels))\n",
    "# test[FIELD].tolist()\n",
    "test['tag'].values\n",
    "\n",
    "import numpy as np\n",
    "\n",
    "# n = 3\n",
    "# top_n_predictions = np.argsort(probs, axis=1)[:, -n:]\n",
    "# top_n_predictions\n",
    "# probs"
   ]
  },
  {
   "cell_type": "code",
   "execution_count": null,
   "metadata": {},
   "outputs": [],
   "source": [
    "# test[FIELD].tolist()\n",
    "\n",
    "# fasttext\n",
    "# model = fasttext.load_model('model.bin')\n",
    "# model.save_model('ft.model')\n",
    "#('./model.bin')\n",
    "# print(model2.words) # list of words in dictionary\n",
    "# print(model2['king']) # get the vector of the word 'king'\n",
    "\n",
    "labels, probs = model2.predict(['n расписание 24 декабря 11 00 15 0025 декабря 11 00 15 00за неделю до нового года любимый дедушка мороз решил собрать всех всех своих друзей в софатэкс повстречаться с дедом морозом перед самым волшебным днем в году можно будет в самом уютном месте магазине чехлов для мебели софатэкс где тепло и по домашнему спокойно спокойно но только для взрослых детки будут радостно кружиться с дедом морозом в хороводе рассказывать ему стихотворения и конечно же свои заветные желания и пока дети веселятся с дедом морозом родители могут выбрать подарочки себе и своим близким все знают как сложно выбраться деду морозу из своей мастерской прямо перед новым годом но он сделает исключение и проведет время со своими друзьями ты же его друг верно тогда приходи 24 и 25 декабря в софатэкс но только не проспи сани прилетают ровно в 11 дед мороз не отпустит никого с пустыми руками каждому вручит подарок выслушает каждое желание но взамен нужно будет порадовать его стишком дедушка очень любит стихотворения приходи и бери своих друзей место встречи с дедом морозом магазин софатэкс в тц зеркало ул в хоружей 6 вход с улицы розовая вывеска софатэкс добраться можно автобусы 19 24 25 29 44 59 91 136 троллейбусы 12 22 29 40 до остановки комаровский рыноклибо трамваи 1 5 6 11автобусы 100 115эметро до остановки пл якуба колоса магазин софатэкс г минск ул веры хоружей 624 25 декабря 2018г с 11 00 по 15 00вход свободный любую информацию можно получить по телефону 375 33 333 00 66 или на сайте sofatex by n n n n t t t t t t n '])\n",
    "print(labels)\n"
   ]
  },
  {
   "cell_type": "code",
   "execution_count": 15,
   "metadata": {},
   "outputs": [],
   "source": [
    "model.quantize(qnorm=True, cutoff=100000)\n",
    "model.save_model('ft_quantized.6.model')"
   ]
  },
  {
   "cell_type": "code",
   "execution_count": null,
   "metadata": {},
   "outputs": [],
   "source": [
    "# model2 = \n",
    "model2 = fastText.load_model('ft_quantized.model')\n"
   ]
  },
  {
   "cell_type": "code",
   "execution_count": null,
   "metadata": {},
   "outputs": [],
   "source": [
    "labels, probs = model2.predict_proba(test[FIELD].tolist())\n",
    "labels = [ll[0].replace('__label__', '') for ll in labels]\n",
    "print(classification_report(test['tag'].values, labels))"
   ]
  },
  {
   "cell_type": "code",
   "execution_count": null,
   "metadata": {},
   "outputs": [],
   "source": []
  }
 ],
 "metadata": {
  "kernelspec": {
   "display_name": "Python 3",
   "language": "python",
   "name": "python3"
  },
  "language_info": {
   "codemirror_mode": {
    "name": "ipython",
    "version": 3
   },
   "file_extension": ".py",
   "mimetype": "text/x-python",
   "name": "python",
   "nbconvert_exporter": "python",
   "pygments_lexer": "ipython3",
   "version": "3.6.7"
  }
 },
 "nbformat": 4,
 "nbformat_minor": 2
}
