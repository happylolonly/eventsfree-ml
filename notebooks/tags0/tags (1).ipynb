{
 "cells": [
  {
   "cell_type": "code",
   "execution_count": 1,
   "metadata": {},
   "outputs": [
    {
     "name": "stdout",
     "output_type": "stream",
     "text": [
      "--2018-12-18 13:45:55--  https://raw.githubusercontent.com/happylolonly/events-free-ml/master/tags/data/data.csv\r\n",
      "Resolving raw.githubusercontent.com (raw.githubusercontent.com)... 151.101.248.133\r\n",
      "Connecting to raw.githubusercontent.com (raw.githubusercontent.com)|151.101.248.133|:443... connected.\r\n",
      "HTTP request sent, awaiting response... 200 OK\r\n",
      "Length: 417624 (408K) [text/plain]\r\n",
      "Saving to: ‘data.csv’\r\n",
      "\r\n",
      "\r",
      "data.csv              0%[                    ]       0  --.-KB/s               \r",
      "data.csv            100%[===================>] 407.84K  --.-KB/s    in 0.01s   \r\n",
      "\r\n",
      "2018-12-18 13:45:55 (29.9 MB/s) - ‘data.csv’ saved [417624/417624]\r\n",
      "\r\n"
     ]
    }
   ],
   "source": [
    "!wget https://raw.githubusercontent.com/happylolonly/events-free-ml/master/tags/data/data.csv"
   ]
  },
  {
   "cell_type": "code",
   "execution_count": 89,
   "metadata": {},
   "outputs": [
    {
     "name": "stdout",
     "output_type": "stream",
     "text": [
      "--2018-12-18 14:13:18--  https://s3-us-west-1.amazonaws.com/fasttext-vectors/word-vectors-v2/cc.ru.300.bin.gz\n",
      "Resolving s3-us-west-1.amazonaws.com (s3-us-west-1.amazonaws.com)... 54.231.237.33\n",
      "Connecting to s3-us-west-1.amazonaws.com (s3-us-west-1.amazonaws.com)|54.231.237.33|:443... connected.\n",
      "HTTP request sent, awaiting response... 200 OK\n",
      "Length: 4496459151 (4.2G) [application/octet-stream]\n",
      "Saving to: ‘cc.ru.300.bin.gz’\n",
      "\n",
      "cc.ru.300.bin.gz    100%[===================>]   4.19G  18.8MB/s    in 19m 56s \n",
      "\n",
      "2018-12-18 14:33:15 (3.59 MB/s) - ‘cc.ru.300.bin.gz’ saved [4496459151/4496459151]\n",
      "\n"
     ]
    }
   ],
   "source": [
    "!wget https://s3-us-west-1.amazonaws.com/fasttext-vectors/word-vectors-v2/cc.ru.300.bin.gz"
   ]
  },
  {
   "cell_type": "code",
   "execution_count": 90,
   "metadata": {},
   "outputs": [
    {
     "name": "stdout",
     "output_type": "stream",
     "text": [
      "--2018-12-18 14:33:15--  https://s3-us-west-1.amazonaws.com/fasttext-vectors/word-vectors-v2/cc.ru.300.vec.gz\n",
      "Resolving s3-us-west-1.amazonaws.com (s3-us-west-1.amazonaws.com)... 54.231.237.29\n",
      "Connecting to s3-us-west-1.amazonaws.com (s3-us-west-1.amazonaws.com)|54.231.237.29|:443... connected.\n",
      "HTTP request sent, awaiting response... 200 OK\n",
      "Length: 1306357571 (1.2G) [binary/octet-stream]\n",
      "Saving to: ‘cc.ru.300.vec.gz’\n",
      "\n",
      "cc.ru.300.vec.gz    100%[===================>]   1.22G  25.1MB/s    in 50s     \n",
      "\n",
      "2018-12-18 14:34:05 (24.7 MB/s) - ‘cc.ru.300.vec.gz’ saved [1306357571/1306357571]\n",
      "\n"
     ]
    }
   ],
   "source": [
    "!wget https://s3-us-west-1.amazonaws.com/fasttext-vectors/word-vectors-v2/cc.ru.300.vec.gz"
   ]
  },
  {
   "cell_type": "code",
   "execution_count": 91,
   "metadata": {},
   "outputs": [],
   "source": [
    "!gunzip cc.ru.300.bin.gz\n",
    "!gunzip cc.ru.300.vec.gz"
   ]
  },
  {
   "cell_type": "code",
   "execution_count": 1,
   "metadata": {
    "scrolled": true
   },
   "outputs": [
    {
     "name": "stderr",
     "output_type": "stream",
     "text": [
      "/home/afridman/.virtualenvs/jupyter/lib/python3.5/importlib/_bootstrap.py:222: RuntimeWarning: numpy.dtype size changed, may indicate binary incompatibility. Expected 96, got 88\n",
      "  return f(*args, **kwds)\n",
      "/home/afridman/.virtualenvs/jupyter/lib/python3.5/importlib/_bootstrap.py:222: RuntimeWarning: numpy.dtype size changed, may indicate binary incompatibility. Expected 96, got 88\n",
      "  return f(*args, **kwds)\n"
     ]
    }
   ],
   "source": [
    "import pandas as pd"
   ]
  },
  {
   "cell_type": "code",
   "execution_count": 2,
   "metadata": {},
   "outputs": [
    {
     "data": {
      "text/html": [
       "<div>\n",
       "<style scoped>\n",
       "    .dataframe tbody tr th:only-of-type {\n",
       "        vertical-align: middle;\n",
       "    }\n",
       "\n",
       "    .dataframe tbody tr th {\n",
       "        vertical-align: top;\n",
       "    }\n",
       "\n",
       "    .dataframe thead th {\n",
       "        text-align: right;\n",
       "    }\n",
       "</style>\n",
       "<table border=\"1\" class=\"dataframe\">\n",
       "  <thead>\n",
       "    <tr style=\"text-align: right;\">\n",
       "      <th></th>\n",
       "      <th>text</th>\n",
       "      <th>title</th>\n",
       "      <th>tags</th>\n",
       "    </tr>\n",
       "  </thead>\n",
       "  <tbody>\n",
       "    <tr>\n",
       "      <th>1</th>\n",
       "      <td>🔥🔥🔥PoisonBox дарит возможности!!! 🔥🔥🔥 \\n \\nВ э...</td>\n",
       "      <td>🔥🔥🔥PoisonBox дарит возможности!!! 🔥🔥🔥 \\n \\nВ ...</td>\n",
       "      <td>{тренировка}</td>\n",
       "    </tr>\n",
       "    <tr>\n",
       "      <th>2</th>\n",
       "      <td>БЕСПЛАТНАЯ открытая тренировка по CROSSFIT! \\n...</td>\n",
       "      <td>БЕСПЛАТНАЯ открытая тренировка по CROSSFIT! \\...</td>\n",
       "      <td>{тренировка}</td>\n",
       "    </tr>\n",
       "    <tr>\n",
       "      <th>4</th>\n",
       "      <td>Внимание!!!📌\\n\\nОткрытое занятие по TRX и SUPE...</td>\n",
       "      <td>Внимание!!!📌\\n\\nОткрытое занятие по TRX и SUP...</td>\n",
       "      <td>{тренировка}</td>\n",
       "    </tr>\n",
       "    <tr>\n",
       "      <th>5</th>\n",
       "      <td>📌 Открытое занятие по TRX и SUPER 8, а так же ...</td>\n",
       "      <td>📌 Открытое занятие по TRX и SUPER 8, а так же...</td>\n",
       "      <td>{тренировка}</td>\n",
       "    </tr>\n",
       "    <tr>\n",
       "      <th>8</th>\n",
       "      <td>\\n                        &amp;#x415;&amp;#x436;&amp;#x435...</td>\n",
       "      <td>Cальса-вечеринка «Винтажные Грувы»</td>\n",
       "      <td>{вечеринка}</td>\n",
       "    </tr>\n",
       "  </tbody>\n",
       "</table>\n",
       "</div>"
      ],
      "text/plain": [
       "                                                text  \\\n",
       "1  🔥🔥🔥PoisonBox дарит возможности!!! 🔥🔥🔥 \\n \\nВ э...   \n",
       "2  БЕСПЛАТНАЯ открытая тренировка по CROSSFIT! \\n...   \n",
       "4  Внимание!!!📌\\n\\nОткрытое занятие по TRX и SUPE...   \n",
       "5  📌 Открытое занятие по TRX и SUPER 8, а так же ...   \n",
       "8  \\n                        &#x415;&#x436;&#x435...   \n",
       "\n",
       "                                               title          tags  \n",
       "1   🔥🔥🔥PoisonBox дарит возможности!!! 🔥🔥🔥 \\n \\nВ ...  {тренировка}  \n",
       "2   БЕСПЛАТНАЯ открытая тренировка по CROSSFIT! \\...  {тренировка}  \n",
       "4   Внимание!!!📌\\n\\nОткрытое занятие по TRX и SUP...  {тренировка}  \n",
       "5   📌 Открытое занятие по TRX и SUPER 8, а так же...  {тренировка}  \n",
       "8                 Cальса-вечеринка «Винтажные Грувы»   {вечеринка}  "
      ]
     },
     "execution_count": 2,
     "metadata": {},
     "output_type": "execute_result"
    }
   ],
   "source": [
    "df = pd.read_csv('data.csv')\n",
    "df.head()\n",
    "\n",
    "df['tags'] = df['tags'].map(eval) \n",
    "tags_white_list = {'митап', 'музыка', 'тренировка', 'дети', 'вечеринка'}\n",
    "df['tags'] = df['tags'].map(lambda x: set(x).intersection(tags_white_list))\n",
    "df = df[df.tags.map(len) > 0]\n",
    "\n",
    "df.head()"
   ]
  },
  {
   "cell_type": "code",
   "execution_count": 3,
   "metadata": {},
   "outputs": [
    {
     "name": "stderr",
     "output_type": "stream",
     "text": [
      "/home/afridman/.virtualenvs/jupyter/lib/python3.5/importlib/_bootstrap.py:222: RuntimeWarning: numpy.dtype size changed, may indicate binary incompatibility. Expected 96, got 88\n",
      "  return f(*args, **kwds)\n",
      "/home/afridman/.virtualenvs/jupyter/lib/python3.5/importlib/_bootstrap.py:222: RuntimeWarning: numpy.dtype size changed, may indicate binary incompatibility. Expected 96, got 88\n",
      "  return f(*args, **kwds)\n",
      "/home/afridman/.virtualenvs/jupyter/lib/python3.5/importlib/_bootstrap.py:222: RuntimeWarning: numpy.dtype size changed, may indicate binary incompatibility. Expected 96, got 88\n",
      "  return f(*args, **kwds)\n",
      "/home/afridman/.virtualenvs/jupyter/lib/python3.5/importlib/_bootstrap.py:222: RuntimeWarning: numpy.dtype size changed, may indicate binary incompatibility. Expected 96, got 88\n",
      "  return f(*args, **kwds)\n"
     ]
    },
    {
     "name": "stdout",
     "output_type": "stream",
     "text": [
      "[nltk_data] Downloading package wordnet to /home/afridman/nltk_data...\n",
      "[nltk_data]   Package wordnet is already up-to-date!\n"
     ]
    }
   ],
   "source": [
    "import gensim\n",
    "from gensim.utils import simple_preprocess\n",
    "from gensim.parsing.preprocessing import STOPWORDS\n",
    "from nltk.stem import WordNetLemmatizer, SnowballStemmer\n",
    "from nltk.stem.porter import *\n",
    "import numpy as np\n",
    "np.random.seed(2018)\n",
    "import nltk\n",
    "nltk.download('wordnet')\n",
    "stemmer = SnowballStemmer('russian')\n",
    "\n",
    "import json\n",
    "from html.parser import HTMLParser\n",
    "\n",
    "class MLStripper(HTMLParser):\n",
    "    def __init__(self):\n",
    "        self.reset()\n",
    "        self.strict = False\n",
    "        self.convert_charrefs= True\n",
    "        self.fed = []\n",
    "    def handle_data(self, d):\n",
    "        self.fed.append(d)\n",
    "    def get_data(self):\n",
    "        return ''.join(self.fed)\n",
    "\n",
    "def strip_tags(html):\n",
    "    s = MLStripper()\n",
    "    s.feed(html)\n",
    "    return s.get_data()\n",
    "\n",
    "def standardize_text(df, text_field):\n",
    "    df[text_field] = df[text_field].apply(strip_tags)\n",
    "    df[text_field] = df[text_field].str.replace(r\"http\\S+\", \"\")\n",
    "    df[text_field] = df[text_field].str.replace(r\"http\", \"\")\n",
    "    df[text_field] = df[text_field].str.replace(r\"[^а-яА-Я0-9a-zA-Z]\", \" \")\n",
    "    df[text_field] = df[text_field].str.replace(r\"\\s+\", \" \")\n",
    "    df[text_field] = df[text_field].str.lower()\n",
    "    return df"
   ]
  },
  {
   "cell_type": "code",
   "execution_count": 4,
   "metadata": {},
   "outputs": [
    {
     "data": {
      "text/html": [
       "<div>\n",
       "<style scoped>\n",
       "    .dataframe tbody tr th:only-of-type {\n",
       "        vertical-align: middle;\n",
       "    }\n",
       "\n",
       "    .dataframe tbody tr th {\n",
       "        vertical-align: top;\n",
       "    }\n",
       "\n",
       "    .dataframe thead th {\n",
       "        text-align: right;\n",
       "    }\n",
       "</style>\n",
       "<table border=\"1\" class=\"dataframe\">\n",
       "  <thead>\n",
       "    <tr style=\"text-align: right;\">\n",
       "      <th></th>\n",
       "      <th>text</th>\n",
       "      <th>title</th>\n",
       "      <th>tags</th>\n",
       "    </tr>\n",
       "  </thead>\n",
       "  <tbody>\n",
       "    <tr>\n",
       "      <th>1</th>\n",
       "      <td>poisonbox дарит возможности n nв эту субботу ...</td>\n",
       "      <td>poisonbox дарит возможности n nв эту субботу ...</td>\n",
       "      <td>{тренировка}</td>\n",
       "    </tr>\n",
       "    <tr>\n",
       "      <th>2</th>\n",
       "      <td>бесплатная открытая тренировка по crossfit n n...</td>\n",
       "      <td>бесплатная открытая тренировка по crossfit n ...</td>\n",
       "      <td>{тренировка}</td>\n",
       "    </tr>\n",
       "    <tr>\n",
       "      <th>4</th>\n",
       "      <td>внимание n nоткрытое занятие по trx и super 8 ...</td>\n",
       "      <td>внимание n nоткрытое занятие по trx и super 8...</td>\n",
       "      <td>{тренировка}</td>\n",
       "    </tr>\n",
       "    <tr>\n",
       "      <th>5</th>\n",
       "      <td>открытое занятие по trx и super 8 а так же на...</td>\n",
       "      <td>открытое занятие по trx и super 8 а так же на...</td>\n",
       "      <td>{тренировка}</td>\n",
       "    </tr>\n",
       "    <tr>\n",
       "      <th>8</th>\n",
       "      <td>n еженедельная сальса вечеринка винтажные гру...</td>\n",
       "      <td>cальса вечеринка винтажные грувы</td>\n",
       "      <td>{вечеринка}</td>\n",
       "    </tr>\n",
       "  </tbody>\n",
       "</table>\n",
       "</div>"
      ],
      "text/plain": [
       "                                                text  \\\n",
       "1   poisonbox дарит возможности n nв эту субботу ...   \n",
       "2  бесплатная открытая тренировка по crossfit n n...   \n",
       "4  внимание n nоткрытое занятие по trx и super 8 ...   \n",
       "5   открытое занятие по trx и super 8 а так же на...   \n",
       "8   n еженедельная сальса вечеринка винтажные гру...   \n",
       "\n",
       "                                               title          tags  \n",
       "1   poisonbox дарит возможности n nв эту субботу ...  {тренировка}  \n",
       "2   бесплатная открытая тренировка по crossfit n ...  {тренировка}  \n",
       "4   внимание n nоткрытое занятие по trx и super 8...  {тренировка}  \n",
       "5   открытое занятие по trx и super 8 а так же на...  {тренировка}  \n",
       "8                  cальса вечеринка винтажные грувы    {вечеринка}  "
      ]
     },
     "execution_count": 4,
     "metadata": {},
     "output_type": "execute_result"
    }
   ],
   "source": [
    "df = standardize_text(df, 'text')\n",
    "df = standardize_text(df, 'title')\n",
    "\n",
    "df.head()"
   ]
  },
  {
   "cell_type": "code",
   "execution_count": 5,
   "metadata": {},
   "outputs": [],
   "source": [
    "from collections import Counter\n",
    "\n",
    "counter = Counter()\n",
    "for tags in df['tags'].values:\n",
    "    for t in tags:\n",
    "        counter[t] += 1"
   ]
  },
  {
   "cell_type": "code",
   "execution_count": 6,
   "metadata": {},
   "outputs": [
    {
     "data": {
      "text/plain": [
       "Counter({'вечеринка': 6,\n",
       "         'дети': 7,\n",
       "         'митап': 15,\n",
       "         'музыка': 12,\n",
       "         'тренировка': 8})"
      ]
     },
     "execution_count": 6,
     "metadata": {},
     "output_type": "execute_result"
    }
   ],
   "source": [
    "counter"
   ]
  },
  {
   "cell_type": "code",
   "execution_count": 7,
   "metadata": {},
   "outputs": [],
   "source": [
    "rows = []\n",
    "\n",
    "for row in df.to_dict(orient='record'):\n",
    "    for tag in row['tags']:\n",
    "        row_copy = row.copy()\n",
    "        row_copy['tag'] = tag\n",
    "        \n",
    "        rows.append(row_copy)\n",
    "        \n",
    "df = pd.DataFrame(rows)"
   ]
  },
  {
   "cell_type": "code",
   "execution_count": 8,
   "metadata": {},
   "outputs": [],
   "source": [
    "from sklearn.model_selection import train_test_split\n",
    "\n",
    "train, test = train_test_split(df, test_size=0.4, stratify=df['tag'].values)"
   ]
  },
  {
   "cell_type": "code",
   "execution_count": 9,
   "metadata": {},
   "outputs": [],
   "source": [
    "import fastText\n",
    "\n",
    "FIELD = 'text'"
   ]
  },
  {
   "cell_type": "code",
   "execution_count": 10,
   "metadata": {},
   "outputs": [],
   "source": [
    "def save(df, path):\n",
    "    with open(path, 'w+') as f:\n",
    "        for _, row in df.iterrows():\n",
    "            f.write('__label__{} {}\\n'.format(row['tag'], row[FIELD]))"
   ]
  },
  {
   "cell_type": "code",
   "execution_count": 11,
   "metadata": {},
   "outputs": [],
   "source": [
    "save(train, '/tmp/train.data')"
   ]
  },
  {
   "cell_type": "code",
   "execution_count": null,
   "metadata": {},
   "outputs": [],
   "source": [
    "model = fastText.train_supervised('/tmp/train.data',\n",
    "                                  pretrainedVectors='cc.ru.300.vec',\n",
    "                                  dim=300,\n",
    "                                  thread=15,\n",
    "                                  epoch=50,\n",
    "                                  verbose=8)"
   ]
  },
  {
   "cell_type": "code",
   "execution_count": null,
   "metadata": {},
   "outputs": [],
   "source": [
    "labels, probs = model.predict(test[FIELD].tolist())\n",
    "labels = [ll[0].replace('__label__', '') for ll in labels]"
   ]
  },
  {
   "cell_type": "code",
   "execution_count": null,
   "metadata": {},
   "outputs": [],
   "source": [
    "from sklearn.metrics import classification_report"
   ]
  },
  {
   "cell_type": "code",
   "execution_count": null,
   "metadata": {},
   "outputs": [],
   "source": [
    "print(classification_report(test['tag'].values, labels))"
   ]
  }
 ],
 "metadata": {
  "kernelspec": {
   "display_name": "Python 3",
   "language": "python",
   "name": "python3"
  },
  "language_info": {
   "codemirror_mode": {
    "name": "ipython",
    "version": 3
   },
   "file_extension": ".py",
   "mimetype": "text/x-python",
   "name": "python",
   "nbconvert_exporter": "python",
   "pygments_lexer": "ipython3",
   "version": "3.6.7"
  }
 },
 "nbformat": 4,
 "nbformat_minor": 2
}
